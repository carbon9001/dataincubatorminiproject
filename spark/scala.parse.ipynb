{
 "cells": [
  {
   "cell_type": "code",
   "execution_count": 16,
   "metadata": {
    "collapsed": false
   },
   "outputs": [
    {
     "name": "stdout",
     "output_type": "stream",
     "text": []
    },
    {
     "data": {
      "text/plain": []
     },
     "execution_count": 16,
     "metadata": {},
     "output_type": "execute_result"
    },
    {
     "name": "stderr",
     "output_type": "stream",
     "text": []
    }
   ],
   "source": [
    "import java.io.File\n",
    "import scala.io.{ BufferedSource, Source }\n",
    "\n",
    "class DropBOMInputStream(file: File) extends java.io.FileInputStream(file) {\n",
    "  var BOM = true;\n",
    "\n",
    "  def skipBom: Unit = if (BOM) { BOM = false; read; read; read; }\n",
    "\n",
    "  override def read(): Int = {\n",
    "    skipBom\n",
    "    super.read\n",
    "  }\n",
    "  override def read(b: Array[Byte]) = {\n",
    "    skipBom\n",
    "    super.read(b)\n",
    "  }\n",
    "  override def read(b: Array[Byte], off: Int, len: Int) = {\n",
    "    skipBom\n",
    "    super.read(b, off, len)\n",
    "  }\n",
    "}\n",
    "\n",
    "abstract class StackTable[T] {\n",
    "\n",
    "  val file: File\n",
    "\n",
    "  def getDate(n: scala.xml.NodeSeq): Long = n.text match {\n",
    "    case \"\" => 0\n",
    "    case s => dateFormat.parse(s).getTime\n",
    "  }\n",
    "\n",
    "def getDateString(n: scala.xml.NodeSeq): Long = n.text match {\n",
    "    case \"\" => 0\n",
    "    case s => (s slice(11,13)).toInt\n",
    "  }\n",
    "\n",
    "  def dateFormat = {\n",
    "    import java.text.SimpleDateFormat\n",
    "    import java.util.TimeZone\n",
    "    val f = new SimpleDateFormat(\"yyyy-MM-dd'T'HH:mm:ss.SSS\")\n",
    "    f.setTimeZone(TimeZone.getTimeZone(\"GMT\"))\n",
    "    f\n",
    "  }\n",
    "\n",
    "  def getInt(n: scala.xml.NodeSeq): Int = n.text match {\n",
    "    case \"\" => 0 \n",
    "    case x => x.toInt\n",
    "  }\n",
    "def getAnswerId(n:scala.xml.NodeSeq):Int = n.text match{  \n",
    "    case \"\" => -5\n",
    "    case x => x.toInt  \n",
    "    }\n",
    "\n",
    "  def parseXml(x: scala.xml.Elem): T\n",
    "\n",
    "\n",
    "  def parse(s: String): Option[T] =\n",
    "    if (s.startsWith(\"  <row \") & s.endsWith(\" />\")) \n",
    "\tSome(parseXml(scala.xml.XML.loadString(s)))\n",
    "//  { try{ Some(parseXml(scala.xml.XML.loadString(s))) }catch{ case _: Throwable => println(s) } }\n",
    "    else None\n",
    "    \n",
    "    def stackOverflowSource(file: File): BufferedSource = Source.fromInputStream(new DropBOMInputStream(file))(scala.io.Codec.UTF8)\n",
    "}\n"
   ]
  },
  {
   "cell_type": "code",
   "execution_count": 17,
   "metadata": {
    "collapsed": false
   },
   "outputs": [
    {
     "name": "stdout",
     "output_type": "stream",
     "text": []
    },
    {
     "data": {
      "text/plain": []
     },
     "execution_count": 17,
     "metadata": {},
     "output_type": "execute_result"
    }
   ],
   "source": [
    "\n",
    "import scala.xml.{ NodeSeq, MetaData }\n",
    "import java.io.File\n",
    "import scala.io.{ BufferedSource, Source }\n",
    "\n",
    "object Post extends StackTable[Post] {\n",
    "\n",
    "    //val file = new File(\"\")\n",
    "    val file = new File(\"./data/allPosts/\")\n",
    " // val file = new File(\"data/Posts.xml\")\n",
    "//  assert(file.exists)\n",
    "\n",
    "  override def parseXml(x: scala.xml.Elem): Post = Post(\n",
    "    getInt(x \\ \"@Id\"),\n",
    "    getInt(x \\ \"@PostTypeId\"),\n",
    "    getInt(x \\ \"@ParentId\"),\n",
    "    getAnswerId(x \\ \"@AcceptedAnswerId\"),\n",
    "    getDate(x \\ \"@CreationDate\"),\n",
    "    getDateString(x \\ \"@CreationDate\"),\n",
    "    getInt(x \\ \"@Score\"),\n",
    "    getInt(x \\ \"@ViewCount\"),\n",
    "    (x \\ \"@Body\").text,\n",
    "    getInt(x \\ \"@OwnerUserId\"),\n",
    "    getDate(x \\ \"@LastActivityDate\"),\n",
    "    (x \\ \"@Title\").text,\n",
    "    getTags(x \\ \"@Tags\"),\n",
    "    getInt(x \\ \"@AnswerCount\"),\n",
    "    getInt(x \\ \"@CommentCount\"),\n",
    "    getInt(x \\ \"@FavoriteCount\"),\n",
    "    getDate(x \\ \"@CommunityOwnedDate\"))\n",
    "\n",
    "  def getTags(x: scala.xml.NodeSeq): Array[String] = x.text match {\n",
    "    case \"\" => Array()\n",
    "    case s => s.drop(1).dropRight(1).split(\"><\")\n",
    "  }\n",
    "}\n",
    "\n",
    "// <row Id=\"1\" PostTypeId=\"1\" AcceptedAnswerId=\"15\" CreationDate=\"2010-07-19T19:12:12.510\" Score=\"19\" ViewCount=\"1033\" Body=\"&lt;p&gt;How should I elicit prior distributions from experts when fitting a Bayesian model?&lt;/p&gt;&#xA;\" OwnerUserId=\"8\" LastActivityDate=\"2010-09-15T21:08:26.077\" Title=\"Eliciting priors from experts\" Tags=\"&lt;bayesian&gt;&lt;prior&gt;&lt;elicitation&gt;\" AnswerCount=\"5\" CommentCount=\"1\" FavoriteCount=\"11\" />\n",
    "case class Post(\n",
    "  id: Int,\n",
    "  postTypeId: Int,\n",
    "  parentId: Int,\n",
    "  acceptedAnswerId: Int,\n",
    "  creationDate: Long,\n",
    "  creationhour:Long,\n",
    "  score: Int,\n",
    "  viewCount: Int,\n",
    "  body: String,\n",
    "  ownerUserId: Int,\n",
    "  lastActivityDate: Long,\n",
    "  title: String,\n",
    "  tags: Array[String],\n",
    "  answerCount: Int,\n",
    "  commentCount: Int,\n",
    "  favoriteCount: Int,\n",
    "  communityOwnedDate: Long) \n"
   ]
  },
  {
   "cell_type": "code",
   "execution_count": 18,
   "metadata": {
    "collapsed": false
   },
   "outputs": [
    {
     "name": "stdout",
     "output_type": "stream",
     "text": []
    },
    {
     "data": {
      "text/plain": []
     },
     "execution_count": 18,
     "metadata": {},
     "output_type": "execute_result"
    }
   ],
   "source": [
    "\n",
    "import scala.xml.{ NodeSeq, MetaData }\n",
    "import java.io.File\n",
    "import scala.io.{ BufferedSource, Source }\n",
    "\n",
    "object User extends StackTable[User] {\n",
    "\n",
    "  //val file = new File(\"\")\n",
    "  val file = new File(\"data/allUsers/\")\n",
    "  //val file = new File(\"data/Users.xml\")\n",
    "//  assert(file.exists)\n",
    "\n",
    "  override def parseXml(x: scala.xml.Elem): User = User(\n",
    "    getInt(x \\ \"@Id\"),\n",
    "    getInt(x \\ \"@Reputation\"),\n",
    "    getDate(x \\ \"@CreationDate\"),\n",
    "    (x \\ \"@DisplayName\").text,\n",
    "    getDate(x \\ \"@LastAccessDate\"),\n",
    "    (x \\ \"@WebsiteUrl\").text,\n",
    "    (x \\ \"@Location\").text,\n",
    "    (x \\ \"@AboutMe\").text,\n",
    "    getInt(x \\ \"@Views\"),\n",
    "    getInt(x \\ \"@UpVotes\"),\n",
    "    getInt(x \\ \"@DownVotes\"),\n",
    "    (x \\ \"@EmailHash\").text,\n",
    "    getInt(x \\ \"@Age\"))\n",
    "}\n",
    "\n",
    "// <row Id=\"1\" Reputation=\"5828\" CreationDate=\"2009-04-30T07:08:27.067\" DisplayName=\"Jeff Atwood\" LastAccessDate=\"2013-08-15T00:13:25.560\" WebsiteUrl=\"http://www.codinghorror.com/blog/\" Location=\"El Cerrito, CA\" AboutMe=\"&lt;p&gt;&lt;a href=&quot;http://www.codinghorror.com/blog/archives/001169.html&quot; rel=&quot;nofollow&quot;&gt;Stack Overflow Valued Associate #00001&lt;/a&gt;&lt;/p&gt;&#xA;&#xA;&lt;p&gt;Wondering how our software development process works? &lt;a href=&quot;http://www.youtube.com/watch?v=08xQLGWTSag&quot; rel=&quot;nofollow&quot;&gt;Take a look!&lt;/a&gt;&lt;/p&gt;&#xA;&#xA;&lt;p&gt;Find me &lt;a href=&quot;http://twitter.com/codinghorror&quot; rel=&quot;nofollow&quot;&gt;on twitter&lt;/a&gt;, or &lt;a href=&quot;http://www.codinghorror.com/blog&quot; rel=&quot;nofollow&quot;&gt;read my blog&lt;/a&gt;. Don't say I didn't warn you &lt;em&gt;because I totally did&lt;/em&gt;.&lt;/p&gt;&#xA;&#xA;&lt;p&gt;However, &lt;a href=&quot;http://www.codinghorror.com/blog/2012/02/farewell-stack-exchange.html&quot; rel=&quot;nofollow&quot;&gt;I no longer work at Stack Exchange, Inc&lt;/a&gt;. I'll miss you all. Well, &lt;em&gt;some&lt;/em&gt; of you, anyway. :)&lt;/p&gt;&#xA;\" \n",
    "// Views=\"6020\" UpVotes=\"2130\" DownVotes=\"32\" EmailHash=\"51d623f33f8b83095db84ff35e15dbe8\" Age=\"43\" />\n",
    "case class User(\n",
    "  id: Int,\n",
    "  reputation: Int,\n",
    "  creationDate: Long,\n",
    "  displayName: String,\n",
    "  lastAccessDate: Long,\n",
    "  websiteUrl: String,\n",
    "  location: String,\n",
    "  aboutMe: String,\n",
    "  views: Int,\n",
    "  upVotes: Int,\n",
    "  downVotes: Int,\n",
    "  emailHash: String,\n",
    "  age: Int) \n"
   ]
  },
  {
   "cell_type": "code",
   "execution_count": 19,
   "metadata": {
    "collapsed": false
   },
   "outputs": [
    {
     "data": {
      "text/plain": []
     },
     "execution_count": 19,
     "metadata": {},
     "output_type": "execute_result"
    }
   ],
   "source": [
    "import scala.xml.{ NodeSeq, MetaData }\n",
    "import java.io.File\n",
    "import scala.io.{ BufferedSource, Source }\n",
    "\n",
    "object Vote extends StackTable[Vote] {\n",
    "\n",
    "  //val file = new File(\"\")\n",
    "  val file = new File(\"data/allVotes/\")\n",
    "  //val file = new File(\"data/Votes.xml\")\n",
    "  //assert(file.exists)\n",
    "\n",
    "  override def parseXml(x: scala.xml.Elem): Vote = Vote(\n",
    "    getInt(x \\ \"@Id\"),\n",
    "    getInt(x \\ \"@PostId\"),\n",
    "    getInt(x \\ \"@VoteTypeId\"),\n",
    "    getInt(x \\ \"@UserId\"),\n",
    "    getDate(x \\ \"@CreationDate\"))\n",
    "}\n",
    "\n",
    "// <row Id=\"1264793\" PostId=\"486481\" VoteTypeId=\"5\" UserId=\"175880\" CreationDate=\"2013-05-30T00:00:00.000\" />\n",
    "case class Vote(\n",
    "  id: Int,\n",
    "  postId: Int,\n",
    "  voteTypeId: Int,\n",
    "  userId: Int,\n",
    "  creationDate: Long) \n"
   ]
  },
  {
   "cell_type": "code",
   "execution_count": null,
   "metadata": {
    "collapsed": true
   },
   "outputs": [],
   "source": []
  }
 ],
 "metadata": {
  "kernelspec": {
   "display_name": "Scala 2.10",
   "language": "scala",
   "name": "scala-2.10"
  },
  "language_info": {
   "codemirror_mode": "text/x-scala",
   "file_extension": "scala",
   "mimetype": "text/x-scala",
   "name": "scala"
  }
 },
 "nbformat": 4,
 "nbformat_minor": 0
}
