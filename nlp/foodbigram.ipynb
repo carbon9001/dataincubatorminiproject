{
 "cells": [
  {
   "cell_type": "code",
   "execution_count": 7,
   "metadata": {
    "collapsed": true
   },
   "outputs": [],
   "source": [
    "import gzip, ujson, random\n",
    "import toolz\n",
    "import cPickle as c\n",
    "import nltk.tokenize\n",
    "import sklearn as sk\n",
    "from sklearn.feature_extraction.text import CountVectorizer\n",
    "from sklearn import linear_model\n",
    "from sklearn.grid_search import GridSearchCV\n",
    "from sklearn.pipeline import Pipeline\n",
    "import dill"
   ]
  },
  {
   "cell_type": "code",
   "execution_count": 8,
   "metadata": {
    "collapsed": false
   },
   "outputs": [
    {
     "name": "stdout",
     "output_type": "stream",
     "text": [
      "12876\n"
     ]
    }
   ],
   "source": [
    "import gzip,ujson\n",
    "filepath_cat = 'yelp_train_academic_dataset_business.json.gz'\n",
    "businesscat = list()\n",
    "with gzip.open(filepath_cat,'rb') as f:\n",
    "    for line in f:\n",
    "        temp = ujson.loads(line)\n",
    "        if 'Restaurants' in temp['categories']:\n",
    "            businesscat.append(temp['business_id'])\n",
    "print len(businesscat)"
   ]
  },
  {
   "cell_type": "code",
   "execution_count": 59,
   "metadata": {
    "collapsed": false
   },
   "outputs": [],
   "source": [
    "def getjsontext(d):\n",
    "    return [toolz.keyfilter(lambda k: k == \"text\", d)]\n",
    "\n",
    "def load_json_yelp(filepath):\n",
    "    data=list()\n",
    "    with gzip.open(filepath, 'rb') as f:\n",
    "        for line in f:\n",
    "            temp = ujson.loads(line)\n",
    "            if temp['business_id'] in businesscat:\n",
    "                #data['text'].append(toolz.keyfilter(lambda k: k == \"text\", line))\n",
    "                data.append(temp['text'])\n",
    "                #data['stars'].append(temp['stars'])\n",
    "    return data\n",
    "\n",
    "def tokenizereview(str):\n",
    "    return nltk.tokenize.sent_tokenize(str)\n",
    "\n",
    "#data loading\n",
    "filepath = 'yelp_train_academic_dataset_review.json.gz'\n",
    "yelp_review = load_json_yelp(filepath)"
   ]
  },
  {
   "cell_type": "code",
   "execution_count": 10,
   "metadata": {
    "collapsed": false
   },
   "outputs": [
    {
     "name": "stdout",
     "output_type": "stream",
     "text": [
      "574278\n",
      "574278\n"
     ]
    }
   ],
   "source": [
    "print len(yelp_review)\n",
    "#print len(yelp_data['text'])\n",
    "#print len(yelp_data['stars'])"
   ]
  },
  {
   "cell_type": "code",
   "execution_count": 12,
   "metadata": {
    "collapsed": true
   },
   "outputs": [],
   "source": [
    "with open('yelp_restaurants_review.data','wb') as output:\n",
    "    dill.dump(yelp_data,output)"
   ]
  },
  {
   "cell_type": "code",
   "execution_count": 26,
   "metadata": {
    "collapsed": false
   },
   "outputs": [],
   "source": [
    "test_sample = yelp_data['text'][:10]"
   ]
  },
  {
   "cell_type": "code",
   "execution_count": 57,
   "metadata": {
    "collapsed": false
   },
   "outputs": [],
   "source": [
    "#print test_sample"
   ]
  },
  {
   "cell_type": "code",
   "execution_count": 125,
   "metadata": {
    "collapsed": false
   },
   "outputs": [
    {
     "name": "stdout",
     "output_type": "stream",
     "text": [
      "<class 'numpy.matrixlib.defmatrix.matrix'>\n",
      "(1, 782)\n",
      "(1, 394)\n",
      "[(u'00 father', 1007.0097953913946), (u'10 high', 1007.0097953913946), (u'12 added', 1007.0097953913946), (u'50s take', 251.75244884784865), (u'51 be', 201.40195907827894), (u'94 just', 251.75244884784865), (u'about 10', 251.75244884784865), (u'about dinner', 62.938112211962164), (u'about eating', 125.87622442392433), (u'about year', 125.87622442392433), (u'across the', 16.508357301498272), (u'add alot', 1007.0097953913946), (u'added breakfast', 335.66993179713148), (u'addition of', 53.000515546915501), (u'advice leave', 251.75244884784865), (u'ago and', 17.982317774846333), (u'ago but', 125.87622442392433), (u'agreement then', 503.50489769569731), (u'ahead and', 35.964635549692666), (u'all the', 5.5632559404316515), (u'all you', 41.958741474641442), (u'allowed smoking', 1007.0097953913946), (u'alone is', 91.546345035581325), (u'alot of', 53.000515546915501), (u'also kind', 1007.0097953913946), (u'always been', 503.50489769569731), (u'always enjoy', 503.50489769569731), (u'amazing the', 16.508357301498272), (u'and cream', 11.988211849897555), (u'and dinner', 8.9911588874231665), (u'and do', 11.988211849897555), (u'and don', 7.1929271099385339), (u'and flash', 35.964635549692666), (u'and food', 5.9941059249487774), (u'and freaked', 35.964635549692666), (u'and friendly', 12.119950441654671), (u'and good', 6.0599752208273356), (u'and half', 35.964635549692666), (u'and it', 3.3054410295421834), (u'and love', 8.9911588874231665), (u'and no', 17.982317774846333), (u'and of', 1.9136763855244219), (u'and patrons', 35.964635549692666), (u'and quite', 17.982317774846333), (u'and reasonable', 35.964635549692666), (u'and said', 35.964635549692666), (u'and saw', 35.964635549692666), (u'and see', 17.982317774846333), (u'and stop', 4.4955794437115832), (u'and the', 0.5960631364748199), (u'and yours', 35.964635549692666), (u'answers the', 16.508357301498272), (u'any you', 125.87622442392433), (u'appears to', 45.773172517790663), (u'are about', 41.958741474641442), (u'are cheap', 83.917482949282885), (u'are driving', 167.83496589856577), (u'are great', 33.566993179713158), (u'are huge', 55.944988632855257), (u'are made', 167.83496589856577), (u'area depressed', 335.66993179713154), (u'area stopped', 335.66993179713154), (u'aren hungry', 1007.0097953913946), (u'arm and', 35.964635549692666), (u'arrived and', 35.964635549692666), (u'as large', 503.50489769569731), (u'as your', 100.70097953913947), (u'ask me', 503.50489769569731), (u'asked if', 143.85854219877066), (u'assortment of', 53.000515546915501), (u'at and', 3.9960706166325184), (u'at its', 22.623907491088723), (u'at the', 1.9350455444979657), (u'ate saturday', 1007.0097953913946), (u'atmosphere has', 251.75244884784865), (u'atmosphere staff', 251.75244884784865), (u'attached to', 45.773172517790663), (u'attention fans', 1007.0097953913946), (u'awesome delicious', 503.50489769569731), (u'back if', 71.929271099385332), (u'back to', 22.886586258895331), (u'baked goods', 101.80758370989925), (u'bakery goods', 29.087881059971217), (u'bakery guess', 143.85854219877066), (u'bakery if', 20.551220314110097), (u'bakery knew', 143.85854219877066), (u'bakery or', 143.85854219877066), (u'bakery selection', 143.85854219877066), (u'bakes goods', 201.40195907827894), (u'basically it', 91.546345035581325), (u'be back', 100.70097953913947), (u'be hard', 201.40195907827894), (u'be older', 201.40195907827894), (u'be prepared', 201.40195907827894), (u'be sure', 100.70097953913947), (u'because of', 26.500257773457751), (u'because the', 8.2541786507491359), (u'been good', 167.83496589856574), (u'being in', 143.85854219877066), (u'better and', 17.982317774846333), (u'better than', 125.87622442392433), (u'bf have', 335.66993179713148), (u'big cinnamon', 335.66993179713148), (u'bit more', 169.67930618316541), (u'bite very', 1007.0097953913946), (u'blueberry muffin', 1007.0097953913946), (u'booths are', 167.83496589856574), (u'bowns seem', 1007.0097953913946), (u'breakfast and', 11.988211849897557), (u'breakfast at', 37.296659088570166), (u'breakfast sausage', 167.83496589856577), (u'breast the', 16.508357301498272), (u'bring some', 167.83496589856574), (u'brought it', 91.546345035581325), (u'browns need', 503.50489769569731), (u'but also', 251.75244884784865), (u'but for', 20.979370737320718), (u'but huge', 83.917482949282871), (u'but they', 27.972494316427625), (u'butter odd', 503.50489769569731), (u'butter thought', 251.75244884784865), (u'by and', 11.988211849897557), (u'by for', 27.972494316427628), (u'by this', 55.944988632855257), (u'can eat', 71.929271099385332), (u'can imagine', 143.85854219877066), (u'can make', 71.929271099385332), (u'can possibly', 143.85854219877066), (u'can say', 143.85854219877066), (u'can stuff', 143.85854219877066), (u'can tell', 143.85854219877066), (u'carafe of', 53.000515546915501), (u'caramel nut', 1007.0097953913946), (u'case they', 111.8899772657105), (u'certainly help', 1007.0097953913946), (u'change in', 143.85854219877066), (u'cheap go', 100.70097953913947), (u'cheap you', 62.938112211962164), (u'chicken breast', 1007.0097953913946), (u'cigarette with', 167.83496589856574), (u'cinnamon roll', 167.83496589856577), (u'cinnamon rolls', 169.67930618316538), (u'coffee needs', 503.50489769569731), (u'coffee on', 71.929271099385332), (u'coming here', 143.85854219877066), (u'cone at', 15.984282466530074), (u'cone friendly', 47.952847399590219), (u'cone restaurant', 35.964635549692666), (u'cone thought', 71.929271099385332), (u'cone when', 28.771708439754136), (u'conversations with', 167.83496589856574), (u'cooking and', 11.988211849897557), (u'cooking everything', 167.83496589856577), (u'couldn leave', 251.75244884784865), (u'counter were', 201.40195907827894), (u'country restaurant', 251.75244884784865), (u'course bakery', 71.929271099385332), (u'course couldn', 503.50489769569731), (u'courteous and', 35.964635549692666), (u'covered cinnamon', 335.66993179713148), (u'crazy big', 1007.0097953913946), (u'cream puff', 335.66993179713154), (u'cream puffs', 169.67930618316538), (u'creek location', 503.50489769569731), (u'creek when', 100.70097953913947), (u'cut sausage', 503.50489769569731), (u'david lynch', 254.51895927474811), (u'definitely be', 201.40195907827894), (u'delicious and', 17.982317774846333), (u'delicious desserts', 251.75244884784865), (u'depressed don', 201.40195907827894), (u'deserters are', 167.83496589856574), (u'dessert the', 16.508357301498272), (u'desserts are', 83.917482949282871), (u'desserts then', 251.75244884784865), (u'dine this', 167.83496589856574), (u'diners with', 167.83496589856574), (u'dining at', 56.559768727721796), (u'dinner everything', 125.87622442392433), (u'dinner here', 35.964635549692666), (u'dinner roll', 125.87622442392433), (u'dinner time', 50.350489769569734), (u'do look', 335.66993179713154), (u'do stop', 41.958741474641442), (u'do that', 55.944988632855257), (u'don add', 201.40195907827894), (u'don ask', 201.40195907827894), (u'don feel', 201.40195907827894), (u'don forget', 201.40195907827894), (u'don know', 201.40195907827894), (u'doughnuts the', 16.508357301498272), (u'driver for', 41.958741474641435), (u'driver to', 22.886586258895331), (u'driving by', 335.66993179713148), (u'eat pancakes', 251.75244884784865), (u'eat was', 35.964635549692666), (u'eating at', 55.944988632855249), (u'eating that', 83.917482949282871), (u'eclairs the', 8.2541786507491359), (u'eclairs took', 503.50489769569731), (u'eggs toast', 1007.0097953913946), (u'empty why', 1007.0097953913946), (u'enjoy being', 1007.0097953913946), (u'enjoyable experience', 503.50489769569731), (u'enjoyable last', 251.75244884784865), (u'enjoyed quick', 251.75244884784865), (u'enough about', 251.75244884784865), (u'even better', 503.50489769569731), (u'everything is', 46.276174413590567), (u'exactly where', 1007.0097953913946), (u'exit from', 251.75244884784865), (u'experience for', 83.917482949282871), (u'explain to', 45.773172517790663), (u'family the', 16.508357301498272), (u'fans of', 53.000515546915501), (u'father had', 201.40195907827894), (u'favorite truck', 143.85854219877066), (u'feel like', 251.75244884784865), (u'film from', 251.75244884784865), (u'finest be', 201.40195907827894), (u'first introduced', 1007.0097953913946), (u'five freakin', 335.66993179713154), (u'five star', 113.11953745544358), (u'flash back', 503.50489769569731), (u'fo some', 167.83496589856574), (u'food and', 5.9941059249487783), (u'food here', 23.976423699795113), (u'food is', 15.257724172596888), (u'food was', 12.119950441654671), (u'food we', 20.979370737320721), (u'for 12', 83.917482949282885), (u'for bf', 83.917482949282885), (u'for dessert', 83.917482949282885), (u'for next', 41.958741474641442), (u'for nice', 41.958741474641442), (u'for our', 27.972494316427628), (u'for skinny', 83.917482949282885), (u'for some', 13.986247158213814), (u'for the', 1.4059315284243035), (u'for these', 83.917482949282885), (u'forget to', 45.773172517790663), (u'found myself', 1007.0097953913946), (u'four stars', 1007.0097953913946), (u'freaked out', 503.50489769569731), (u'freakin star', 335.66993179713148), (u'frequenting truck', 143.85854219877066), (u'fresh cut', 503.50489769569731), (u'fresh its', 100.70097953913947), (u'friendly quick', 84.83965309158269), (u'friendly the', 5.50278576716609), (u'from 94', 251.75244884784865), (u'from the', 4.1724419553237393), (u'from time', 50.350489769569734), (u'front counter', 1007.0097953913946), (u'gas station', 1007.0097953913946), (u'gets four', 1007.0097953913946), (u'giant cream', 335.66993179713148), (u'go ahead', 201.40195907827894), (u'go here', 29.087881059971213), (u'go to', 9.1546345035581336), (u'go which', 201.40195907827894), (u'god those', 1007.0097953913946), (u'good and', 5.9941059249487783), (u'good huge', 55.944988632855257), (u'good prices', 41.958741474641442), (u'good the', 2.751392883583045), (u'good truck', 23.976423699795113), (u'good value', 167.83496589856577), (u'goods from', 50.350489769569734), (u'goods in', 28.771708439754136), (u'goods massive', 201.40195907827894), (u'goods to', 9.1546345035581336), (u'goods well', 201.40195907827894), (u'great baked', 100.70097953913947), (u'great but', 50.350489769569734), (u'great home', 33.566993179713151), (u'great pancakes', 100.70097953913947), (u'great truck', 28.771708439754136), (u'guess is', 91.546345035581325), (u'guys because', 503.50489769569731), (u'had breakfast', 67.133986359426302), (u'had great', 40.28039181565579), (u'had the', 3.3016714602996542), (u'had was', 14.385854219877068), (u'had when', 40.28039181565579), (u'half ago', 503.50489769569731), (u'hard times', 1007.0097953913946), (u'has always', 251.75244884784865), (u'has improved', 503.50489769569731), (u'hash bowns', 503.50489769569731), (u'hash browns', 503.50489769569731), (u'have all', 111.88997726571051), (u'have doughnuts', 335.66993179713154), (u'have found', 335.66993179713154), (u'head cream', 167.83496589856574), (u'head eclairs', 251.75244884784865), (u'help to', 45.773172517790663), (u'here and', 5.1378050785275242), (u'here for', 11.988211849897555), (u'here instead', 143.85854219877066), (u'here is', 13.078049290797333), (u'here on', 20.551220314110097), (u'here once', 143.85854219877066), (u'here ordered', 71.929271099385332), (u'high on', 143.85854219877066), (u'home cooking', 55.944988632855257), (u'home if', 23.976423699795113), (u'home in', 23.976423699795113), (u'home it', 15.257724172596888), (u'home some', 27.972494316427628), (u'homemade and', 17.982317774846333), (u'homemade they', 55.944988632855249), (u'how they', 111.8899772657105), (u'huge can', 47.952847399590226), (u'huge plan', 335.66993179713154), (u'huge portions', 335.66993179713154), (u'humorous always', 503.50489769569731), (u'hungry just', 251.75244884784865), (u'if any', 143.85854219877066), (u'if they', 15.984282466530074), (u'if wanted', 143.85854219877066), (u'if was', 10.275610157055048), (u'if you', 18.377533550117683), (u'imagine eating', 503.50489769569731), (u'in david', 71.929271099385332), (u'in law', 143.85854219877066), (u'in our', 47.952847399590219), (u'in the', 2.4360841229840466), (u'indulging on', 143.85854219877066), (u'influence of', 53.000515546915501), (u'insane and', 35.964635549692666), (u'instead their', 503.50489769569731), (u'interior appears', 1007.0097953913946), (u'introduced to', 45.773172517790663), (u'is good', 15.257724172596888), (u'is homemade', 46.27617441359056), (u'is just', 22.886586258895335), (u'is legendary', 91.546345035581339), (u'is meal', 45.77317251779067), (u'is quite', 45.77317251779067), (u'is there', 91.546345035581339), (u'is this', 15.257724172596888), (u'is way', 91.546345035581339), (u'is we', 11.443293129447667), (u'it at', 10.171816115064592), (u'it has', 45.77317251779067), (u'it home', 15.257724172596888), (u'it is', 8.3223950032346661), (u'it to', 4.161197501617333), (u'it warmed', 91.546345035581339), (u'it was', 6.6827394727700673), (u'it wasn', 91.546345035581339), (u'its cheap', 100.70097953913947), (u'its finest', 201.40195907827894), (u'its fresh', 100.70097953913947), (u'its johnson', 100.70097953913947), (u'its plentiful', 201.40195907827894), (u'johnson creek', 254.51895927474811), (u'just great', 50.350489769569734), (u'just mile', 251.75244884784865), (u'just northeast', 251.75244884784865), (u'just stop', 31.469056105981082), (u'kind of', 53.000515546915501), (u'knew was', 71.929271099385332), (u'know do', 335.66993179713148), (u'large as', 503.50489769569731), (u'last thing', 503.50489769569731), (u'last time', 100.70097953913947), (u'law sure', 503.50489769569731), (u'leave carafe', 251.75244884784865), (u'leave room', 251.75244884784865), (u'leave this', 41.958741474641435), (u'leave without', 125.87622442392433), (u'left smelling', 503.50489769569731), (u'left we', 62.938112211962164), (u'legendary they', 111.8899772657105), (u'like cigarette', 251.75244884784865), (u'like cooking', 83.917482949282871), (u'like have', 83.917482949282871), (u'like lot', 251.75244884784865), (u'links food', 167.83496589856574), (u'literally can', 143.85854219877066), (u'little place', 167.83496589856574), (u'lizards you', 125.87622442392433), (u'll love', 251.75244884784865), (u'location years', 1007.0097953913946), (u'look like', 251.75244884784865), (u'looked out', 503.50489769569731), (u'lot lizards', 1007.0097953913946), (u'love coming', 251.75244884784865), (u'love how', 251.75244884784865), (u'love the', 4.127089325374568), (u'love this', 41.958741474641435), (u'lynch do', 167.83496589856574), (u'lynch film', 503.50489769569731), (u'made for', 83.917482949282871), (u'major qualms', 1007.0097953913946), (u'make it', 45.773172517790663), (u'make your', 100.70097953913947), (u'massive as', 503.50489769569731), (u'me don', 100.70097953913947), (u'me it', 45.773172517790663), (u'meal and', 17.982317774846333), (u'meal can', 71.929271099385332), (u'mentioned about', 251.75244884784865), (u'mile south', 1007.0097953913946), (u'more bite', 335.66993179713154), (u'more cooking', 111.88997726571051), (u'more than', 83.917482949282885), (u'morning breakfast', 335.66993179713148), (u'most recent', 335.66993179713148), (u'muffin to', 45.773172517790663), (u'must be', 201.40195907827894), (u'my favorite', 335.66993179713154), (u'my god', 335.66993179713154), (u'my only', 167.83496589856577), (u'myself frequenting', 1007.0097953913946), (u'near dinner', 125.87622442392433), (u'near johnson', 251.75244884784865), (u'need bit', 251.75244884784865), (u'need to', 22.886586258895331), (u'needs bit', 503.50489769569731), (u'new year', 503.50489769569731), (u'next off', 503.50489769569731), (u'next to', 22.886586258895331), (u'nice assortment', 503.50489769569731), (u'nice meal', 251.75244884784865), (u'no butter', 251.75244884784865), (u'no major', 503.50489769569731), (u'nodded agreement', 1007.0097953913946), (u'normal prices', 251.75244884784865), (u'northeast of', 53.000515546915501), (u'nothing you', 125.87622442392433), (u'now sits', 1007.0097953913946), (u'nut covered', 1007.0097953913946), (u'odd but', 251.75244884784865), (u'of advice', 53.000515546915508), (u'of bakery', 7.5715022209879308), (u'of bakes', 53.000515546915508), (u'of coffee', 26.500257773457754), (u'of course', 26.791469397341903), (u'of david', 26.500257773457754), (u'of humorous', 53.000515546915508), (u'of madison', 53.000515546915508), (u'of my', 17.666838515638503), (u'of pie', 53.000515546915508), (u'of salt', 53.000515546915508), (u'of the', 0.88795675479429692), (u'of their', 26.500257773457754), (u'of truck', 7.5715022209879308), (u'of your', 10.716587758936761), (u'off ramp', 1007.0097953913946), (u'older than', 251.75244884784865), (u'on 51', 143.85854219877066), (u'on our', 47.952847399590219), (u'on recent', 47.952847399590219), (u'on some', 23.976423699795109), (u'on the', 2.4101683344416633), (u'once about', 251.75244884784865), (u'one looked', 503.50489769569731), (u'one of', 26.500257773457751), (u'only problem', 503.50489769569731), (u'only went', 503.50489769569731), (u'or if', 143.85854219877066), (u'ordered stuffed', 503.50489769569731), (u'ordered the', 8.2541786507491359), (u'other side', 503.50489769569731), (u'other than', 125.87622442392433), (u'our case', 335.66993179713154), (u'our most', 335.66993179713154), (u'our safety', 335.66993179713154), (u'out at', 55.944988632855249), (u'out the', 8.2541786507491359), (u'packed in', 143.85854219877066), (u'pancakes for', 41.958741474641435), (u'pancakes my', 167.83496589856574), (u'past and', 35.964635549692666), (u'patrons will', 1007.0097953913946), (u'patty 00', 1007.0097953913946), (u'people from', 251.75244884784865), (u'piece of', 53.000515546915501), (u'pine cone', 21.906245829326149), (u'place gets', 167.83496589856577), (u'place is', 15.257724172596888), (u'place now', 167.83496589856577), (u'place the', 2.751392883583045), (u'place without', 83.917482949282885), (u'place would', 167.83496589856577), (u'plan to', 45.773172517790663), (u'pleasant surprise', 1007.0097953913946), (u'plentiful its', 201.40195907827894), (u'police is', 91.546345035581325), (u'portions and', 35.964635549692666), (u'possibly leave', 251.75244884784865), (u'prepared to', 45.773172517790663), (u'price we', 125.87622442392433), (u'priced and', 35.964635549692666), (u'prices are', 41.958741474641435), (u'prices but', 62.938112211962164), (u'prices the', 4.127089325374568), (u'problem with', 167.83496589856574), (u'puff all', 335.66993179713148), (u'puffs eclairs', 251.75244884784865), (u'puffs that', 83.917482949282871), (u'qualms other', 503.50489769569731), (u'quick exit', 251.75244884784865), (u'quick service', 84.839653091582704), (u'quick snacks', 251.75244884784865), (u'quite good', 83.917482949282871), (u'quite pleasant', 503.50489769569731), (u'ramp and', 35.964635549692666), (u'rating five', 335.66993179713148), (u'really more', 335.66993179713148), (u'reasonable prices', 251.75244884784865), (u'reasonably priced', 1007.0097953913946), (u'recent addition', 335.66993179713154), (u'recent road', 335.66993179713154), (u'recent trip', 167.83496589856577), (u'restaurant fo', 251.75244884784865), (u'restaurant just', 62.938112211962164), (u'restaurant take', 62.938112211962164), (u'restaurant ve', 251.75244884784865), (u'right five', 167.83496589856574), (u'right price', 503.50489769569731), (u'road trip', 503.50489769569731), (u'roll alone', 503.50489769569731), (u'roll the', 8.2541786507491359), (u'rolls and', 17.982317774846333), (u'rolls was', 35.964635549692666), (u'room for', 83.917482949282871), (u'safely packed', 1007.0097953913946), (u'safety and', 35.964635549692666), (u'said to', 45.773172517790663), (u'salt if', 143.85854219877066), (u'saturday morning', 1007.0097953913946), (u'sausage links', 503.50489769569731), (u'sausage patty', 503.50489769569731), (u'saw the', 16.508357301498272), (u'say enough', 1007.0097953913946), (u'see exactly', 503.50489769569731), (u'see the', 8.2541786507491359), (u'seem fresh', 503.50489769569731), (u'selection crazy', 1007.0097953913946), (u'service and', 11.988211849897557), (u'service my', 111.88997726571051), (u'service normal', 335.66993179713154), (u'she brought', 503.50489769569731), (u'she nodded', 503.50489769569731), (u'side of', 53.000515546915501), (u'sign for', 83.917482949282871), (u'sits empty', 1007.0097953913946), (u'size of', 13.686946322555105), (u'skinny people', 1007.0097953913946), (u'smelling like', 251.75244884784865), (u'smoking so', 503.50489769569731), (u'snacks and', 35.964635549692666), (u'so left', 251.75244884784865), (u'so ordered', 251.75244884784865), (u'solid food', 167.83496589856574), (u'some bakery', 24.239900883309343), (u'some butter', 83.917482949282885), (u'some great', 33.566993179713158), (u'some home', 27.972494316427628), (u'some quick', 41.958741474641442), (u'someone mentioned', 1007.0097953913946), (u'sounded even', 1007.0097953913946), (u'south on', 143.85854219877066), (u'special was', 71.929271099385332), (u'staff and', 17.982317774846333), (u'staff was', 35.964635549692666), (u'star bakery', 47.952847399590226), (u'star rating', 335.66993179713154), (u'star truck', 47.952847399590226), (u'stars because', 503.50489769569731), (u'start conversations', 1007.0097953913946), (u'station attached', 1007.0097953913946), (u'stop by', 42.419826545791352), (u'stop diners', 125.87622442392433), (u'stop dining', 63.629739818687028), (u'stop it', 11.443293129447666), (u'stop restaurant', 31.469056105981082), (u'stop this', 20.979370737320718), (u'stopped at', 111.8899772657105), (u'stops to', 45.773172517790663), (u'street must', 503.50489769569731), (u'street that', 83.917482949282871), (u'stuff yourself', 1007.0097953913946), (u'stuffed chicken', 1007.0097953913946), (u'sure the', 8.2541786507491359), (u'sure to', 22.886586258895331), (u'surprise basically', 1007.0097953913946), (u'table love', 125.87622442392433), (u'table start', 503.50489769569731), (u'take home', 42.419826545791352), (u'take table', 125.87622442392433), (u'take the', 4.127089325374568), (u'tasty no', 503.50489769569731), (u'tell its', 201.40195907827894), (u'than one', 125.87622442392433), (u'than the', 4.1724419553237393), (u'than what', 251.75244884784865), (u'that are', 27.972494316427628), (u'that giant', 167.83496589856577), (u'that place', 27.972494316427628), (u'that she', 83.917482949282885), (u'that sounded', 167.83496589856577), (u'that they', 18.648329544285083), (u'thats right', 503.50489769569731), (u'the 50s', 16.508357301498272), (u'the answers', 16.508357301498272), (u'the area', 5.5632559404316515), (u'the atmosphere', 8.3448839106474768), (u'the awesome', 16.508357301498272), (u'the baked', 8.2541786507491359), (u'the bakery', 2.3842525458992796), (u'the caramel', 16.508357301498272), (u'the change', 16.508357301498272), (u'the cinnamon', 5.50278576716609), (u'the coffee', 8.2541786507491359), (u'the country', 16.508357301498272), (u'the deserters', 16.508357301498272), (u'the dinner', 4.127089325374568), (u'the food', 2.8118630568486065), (u'the front', 16.508357301498272), (u'the gas', 16.508357301498272), (u'the hash', 8.2541786507491359), (u'the influence', 16.508357301498272), (u'the interior', 16.508357301498272), (u'the last', 8.2541786507491359), (u'the new', 16.508357301498272), (u'the next', 8.2541786507491359), (u'the other', 8.2541786507491359), (u'the past', 16.508357301498272), (u'the pine', 2.513831488611197), (u'the police', 16.508357301498272), (u'the prices', 4.127089325374568), (u'the restaurant', 4.127089325374568), (u'the right', 8.2541786507491359), (u'the service', 5.50278576716609), (u'the sign', 16.508357301498272), (u'the size', 4.2631472152220811), (u'the special', 16.508357301498272), (u'the stop', 2.063544662687284), (u'the street', 8.3448839106474768), (u'the table', 8.2541786507491359), (u'the time', 3.3016714602996542), (u'the truck', 2.3583367573568959), (u'the trunk', 16.508357301498272), (u'the typical', 16.508357301498272), (u'the wait', 16.508357301498272), (u'the waitress', 16.508357301498272), (u'the weekends', 16.508357301498272), (u'the whole', 16.508357301498272), (u'the window', 16.508357301498272), (u'their booths', 503.50489769569731), (u'their five', 167.83496589856574), (u'then on', 71.929271099385332), (u'then when', 100.70097953913947), (u'there really', 1007.0097953913946), (u'these guys', 1007.0097953913946), (u'they allowed', 111.88997726571051), (u'they can', 15.984282466530074), (u'they don', 22.377995453142102), (u'they had', 22.623907491088723), (u'they have', 37.296659088570166), (u'they leave', 27.972494316427628), (u'they were', 22.623907491088723), (u'thing we', 125.87622442392433), (u'this area', 55.944988632855257), (u'this little', 167.83496589856577), (u'this place', 28.894664458727437), (u'those desserts', 503.50489769569731), (u'thought is', 45.773172517790663), (u'thought that', 83.917482949282871), (u'time so', 100.70097953913947), (u'time the', 3.3016714602996542), (u'time to', 9.1546345035581336), (u'time was', 14.543940529985607), (u'times for', 83.917482949282871), (u'to be', 9.1546345035581336), (u'to bring', 45.77317251779067), (u'to dine', 45.77317251779067), (u'to eat', 22.886586258895335), (u'to explain', 45.77317251779067), (u'to go', 9.4564356410380714), (u'to make', 22.886586258895335), (u'to me', 22.886586258895335), (u'to nothing', 45.77317251779067), (u'to see', 22.886586258895335), (u'to take', 11.56904360339764), (u'to the', 0.78336360821295492), (u'to time', 9.1546345035581336), (u'to your', 9.1546345035581336), (u'toast hash', 503.50489769569731), (u'took blueberry', 1007.0097953913946), (u'trip in', 71.929271099385332), (u'trip someone', 503.50489769569731), (u'truck driver', 72.719702649928038), (u'truck stop', 18.575141437753359), (u'truck stops', 143.85854219877066), (u'trunk for', 83.917482949282871), (u'two eggs', 1007.0097953913946), (u'typical two', 1007.0097953913946), (u'under the', 16.508357301498272), (u'unheated and', 35.964635549692666), (u'used to', 45.773172517790663), (u'value word', 1007.0097953913946), (u've had', 201.40195907827894), (u'very nice', 503.50489769569731), (u'visit enjoyable', 503.50489769569731), (u'wait staff', 503.50489769569731), (u'waitress asked', 1007.0097953913946), (u'wanted it', 91.546345035581325), (u'warmed with', 167.83496589856574), (u'was across', 71.929271099385332), (u'was all', 23.976423699795109), (u'was courteous', 71.929271099385332), (u'was delicious', 35.964635549692666), (u'was first', 71.929271099385332), (u'was here', 10.275610157055048), (u'was home', 11.988211849897555), (u'was in', 10.275610157055048), (u'was insane', 71.929271099385332), (u'was near', 35.964635549692666), (u'was reasonably', 71.929271099385332), (u'was tasty', 71.929271099385332), (u'was that', 11.988211849897555), (u'was unheated', 71.929271099385332), (u'wasn near', 503.50489769569731), (u'way better', 503.50489769569731), (u'we arrived', 125.87622442392433), (u'we don', 25.175244884784867), (u'we had', 25.175244884784867), (u'we love', 31.469056105981082), (u'we need', 62.938112211962164), (u'we used', 125.87622442392433), (u'we were', 25.451895927474812), (u'weekends when', 201.40195907827894), (u'well worth', 1007.0097953913946), (u'went here', 143.85854219877066), (u'were amazing', 201.40195907827894), (u'were at', 22.377995453142102), (u'were on', 28.771708439754136), (u'were safely', 201.40195907827894), (u'were under', 201.40195907827894), (u'what they', 111.8899772657105), (u'when it', 18.309269007116267), (u'when she', 100.70097953913947), (u'when they', 22.377995453142102), (u'when we', 25.451895927474808), (u'where we', 125.87622442392433), (u'which enjoyed', 1007.0097953913946), (u'whole family', 1007.0097953913946), (u'why is', 91.546345035581325), (u'will certainly', 1007.0097953913946), (u'window to', 45.773172517790663), (u'with it', 15.257724172596888), (u'with recent', 55.944988632855257), (u'with solid', 167.83496589856577), (u'with some', 27.972494316427628), (u'with the', 2.7816279702158258), (u'without indulging', 503.50489769569731), (u'without piece', 503.50489769569731), (u'word of', 53.000515546915501), (u'worth the', 16.508357301498272), (u'would definitely', 1007.0097953913946), (u'yeah thats', 1007.0097953913946), (u'year and', 17.982317774846333), (u'year the', 8.2541786507491359), (u'years ago', 503.50489769569731), (u'you are', 20.979370737320718), (u'you aren', 125.87622442392433), (u'you can', 18.377533550117686), (u'you like', 31.469056105981082), (u'you literally', 125.87622442392433), (u'you ll', 125.87622442392433), (u'your arm', 201.40195907827894), (u'your head', 101.80758370989923), (u'your left', 100.70097953913947), (u'your visit', 201.40195907827894), (u'yours the', 16.508357301498272), (u'yourself for', 83.917482949282871)]\n"
     ]
    }
   ],
   "source": [
    "import numpy as np\n",
    "test_vec2 = CountVectorizer(ngram_range=(2,2))\n",
    "b=test_vec2.fit_transform(test_sample).sum(axis=0)\n",
    "print type(b)\n",
    "b=b+90\n",
    "ts = float(b.sum())\n",
    "#pw=[float(i)/float(ts) for i in b]\n",
    "pw2 = b/ts\n",
    "print b.shape\n",
    "#test_vec.get_feature_names()\n",
    "test_vec = CountVectorizer(ngram_range=(1,1))\n",
    "a=test_vec.fit_transform(test_sample).sum(axis=0)\n",
    "ts = float(a.sum())\n",
    "pw=a/ts\n",
    "#pw2=[float(i)/float(ts) for i in a]\n",
    "print a.shape\n",
    "fn1=test_vec.get_feature_names()\n",
    "fn2=test_vec2.get_feature_names()\n",
    "ng2list = list()\n",
    "for i in fn2:\n",
    "    sp = i.split()\n",
    "    if sp[0] in fn1:\n",
    "        pw1ind=fn1.index(sp[0])\n",
    "    if sp[1] in fn1:\n",
    "        pw2ind=fn1.index(sp[1])\n",
    "    pw1w2ind = fn2.index(i)\n",
    "    bigram = (i,pw2[0,pw1w2ind]/pw[0,pw1ind]/pw[0,pw2ind])\n",
    "    ng2list.append(bigram)\n",
    "print ng2list"
   ]
  },
  {
   "cell_type": "code",
   "execution_count": 126,
   "metadata": {
    "collapsed": false
   },
   "outputs": [
    {
     "name": "stdout",
     "output_type": "stream",
     "text": [
      "start counting\n",
      "start calculate freqency\n",
      "start sum\n",
      "start todense\n",
      "start smoothing\n",
      "start counting ngram2\n"
     ]
    },
    {
     "ename": "MemoryError",
     "evalue": "",
     "output_type": "error",
     "traceback": [
      "\u001b[1;31m---------------------------------------------------------------------------\u001b[0m",
      "\u001b[1;31mMemoryError\u001b[0m                               Traceback (most recent call last)",
      "\u001b[1;32m<ipython-input-126-1d1c80a66bfe>\u001b[0m in \u001b[0;36m<module>\u001b[1;34m()\u001b[0m\n\u001b[0;32m     12\u001b[0m \u001b[0mfreq_1\u001b[0m \u001b[1;33m=\u001b[0m \u001b[0mcount_1\u001b[0m\u001b[1;33m/\u001b[0m\u001b[0mfloat\u001b[0m\u001b[1;33m(\u001b[0m\u001b[0mcount_1\u001b[0m\u001b[1;33m.\u001b[0m\u001b[0msum\u001b[0m\u001b[1;33m(\u001b[0m\u001b[1;33m)\u001b[0m\u001b[1;33m)\u001b[0m\u001b[1;33m\u001b[0m\u001b[0m\n\u001b[0;32m     13\u001b[0m \u001b[1;32mprint\u001b[0m \u001b[1;34m'start counting ngram2'\u001b[0m\u001b[1;33m\u001b[0m\u001b[0m\n\u001b[1;32m---> 14\u001b[1;33m \u001b[0mcount_2\u001b[0m \u001b[1;33m=\u001b[0m \u001b[0mvec_ng2\u001b[0m\u001b[1;33m.\u001b[0m\u001b[0mfit_transform\u001b[0m\u001b[1;33m(\u001b[0m\u001b[0myelp_review\u001b[0m\u001b[1;33m)\u001b[0m\u001b[1;33m\u001b[0m\u001b[0m\n\u001b[0m\u001b[0;32m     15\u001b[0m \u001b[0mcount_2\u001b[0m \u001b[1;33m=\u001b[0m \u001b[0mcount_2\u001b[0m\u001b[1;33m.\u001b[0m\u001b[0msum\u001b[0m\u001b[1;33m(\u001b[0m\u001b[0maxis\u001b[0m\u001b[1;33m=\u001b[0m\u001b[1;36m0\u001b[0m\u001b[1;33m)\u001b[0m\u001b[1;33m\u001b[0m\u001b[0m\n\u001b[0;32m     16\u001b[0m \u001b[0mfreq_2\u001b[0m \u001b[1;33m=\u001b[0m \u001b[0mcount_2\u001b[0m\u001b[1;33m/\u001b[0m\u001b[0mfloat\u001b[0m\u001b[1;33m(\u001b[0m\u001b[0mcount_2\u001b[0m\u001b[1;33m.\u001b[0m\u001b[0msum\u001b[0m\u001b[1;33m(\u001b[0m\u001b[1;33m)\u001b[0m\u001b[1;33m)\u001b[0m\u001b[1;33m\u001b[0m\u001b[0m\n",
      "\u001b[1;32m/opt/conda/lib/python2.7/site-packages/sklearn/feature_extraction/text.pyc\u001b[0m in \u001b[0;36mfit_transform\u001b[1;34m(self, raw_documents, y)\u001b[0m\n\u001b[0;32m    815\u001b[0m \u001b[1;33m\u001b[0m\u001b[0m\n\u001b[0;32m    816\u001b[0m         vocabulary, X = self._count_vocab(raw_documents,\n\u001b[1;32m--> 817\u001b[1;33m                                           self.fixed_vocabulary_)\n\u001b[0m\u001b[0;32m    818\u001b[0m \u001b[1;33m\u001b[0m\u001b[0m\n\u001b[0;32m    819\u001b[0m         \u001b[1;32mif\u001b[0m \u001b[0mself\u001b[0m\u001b[1;33m.\u001b[0m\u001b[0mbinary\u001b[0m\u001b[1;33m:\u001b[0m\u001b[1;33m\u001b[0m\u001b[0m\n",
      "\u001b[1;32m/opt/conda/lib/python2.7/site-packages/sklearn/feature_extraction/text.pyc\u001b[0m in \u001b[0;36m_count_vocab\u001b[1;34m(self, raw_documents, fixed_vocab)\u001b[0m\n\u001b[0;32m    771\u001b[0m         X = sp.csr_matrix((values, j_indices, indptr),\n\u001b[0;32m    772\u001b[0m                           \u001b[0mshape\u001b[0m\u001b[1;33m=\u001b[0m\u001b[1;33m(\u001b[0m\u001b[0mlen\u001b[0m\u001b[1;33m(\u001b[0m\u001b[0mindptr\u001b[0m\u001b[1;33m)\u001b[0m \u001b[1;33m-\u001b[0m \u001b[1;36m1\u001b[0m\u001b[1;33m,\u001b[0m \u001b[0mlen\u001b[0m\u001b[1;33m(\u001b[0m\u001b[0mvocabulary\u001b[0m\u001b[1;33m)\u001b[0m\u001b[1;33m)\u001b[0m\u001b[1;33m,\u001b[0m\u001b[1;33m\u001b[0m\u001b[0m\n\u001b[1;32m--> 773\u001b[1;33m                           dtype=self.dtype)\n\u001b[0m\u001b[0;32m    774\u001b[0m         \u001b[0mX\u001b[0m\u001b[1;33m.\u001b[0m\u001b[0msum_duplicates\u001b[0m\u001b[1;33m(\u001b[0m\u001b[1;33m)\u001b[0m\u001b[1;33m\u001b[0m\u001b[0m\n\u001b[0;32m    775\u001b[0m         \u001b[1;32mreturn\u001b[0m \u001b[0mvocabulary\u001b[0m\u001b[1;33m,\u001b[0m \u001b[0mX\u001b[0m\u001b[1;33m\u001b[0m\u001b[0m\n",
      "\u001b[1;32m/opt/conda/lib/python2.7/site-packages/scipy/sparse/compressed.pyc\u001b[0m in \u001b[0;36m__init__\u001b[1;34m(self, arg1, shape, dtype, copy)\u001b[0m\n\u001b[0;32m     54\u001b[0m                     \u001b[0mself\u001b[0m\u001b[1;33m.\u001b[0m\u001b[0mindices\u001b[0m \u001b[1;33m=\u001b[0m \u001b[0mnp\u001b[0m\u001b[1;33m.\u001b[0m\u001b[0marray\u001b[0m\u001b[1;33m(\u001b[0m\u001b[0mindices\u001b[0m\u001b[1;33m,\u001b[0m \u001b[0mcopy\u001b[0m\u001b[1;33m=\u001b[0m\u001b[0mcopy\u001b[0m\u001b[1;33m,\u001b[0m \u001b[0mdtype\u001b[0m\u001b[1;33m=\u001b[0m\u001b[0midx_dtype\u001b[0m\u001b[1;33m)\u001b[0m\u001b[1;33m\u001b[0m\u001b[0m\n\u001b[0;32m     55\u001b[0m                     \u001b[0mself\u001b[0m\u001b[1;33m.\u001b[0m\u001b[0mindptr\u001b[0m \u001b[1;33m=\u001b[0m \u001b[0mnp\u001b[0m\u001b[1;33m.\u001b[0m\u001b[0marray\u001b[0m\u001b[1;33m(\u001b[0m\u001b[0mindptr\u001b[0m\u001b[1;33m,\u001b[0m \u001b[0mcopy\u001b[0m\u001b[1;33m=\u001b[0m\u001b[0mcopy\u001b[0m\u001b[1;33m,\u001b[0m \u001b[0mdtype\u001b[0m\u001b[1;33m=\u001b[0m\u001b[0midx_dtype\u001b[0m\u001b[1;33m)\u001b[0m\u001b[1;33m\u001b[0m\u001b[0m\n\u001b[1;32m---> 56\u001b[1;33m                     \u001b[0mself\u001b[0m\u001b[1;33m.\u001b[0m\u001b[0mdata\u001b[0m \u001b[1;33m=\u001b[0m \u001b[0mnp\u001b[0m\u001b[1;33m.\u001b[0m\u001b[0marray\u001b[0m\u001b[1;33m(\u001b[0m\u001b[0mdata\u001b[0m\u001b[1;33m,\u001b[0m \u001b[0mcopy\u001b[0m\u001b[1;33m=\u001b[0m\u001b[0mcopy\u001b[0m\u001b[1;33m,\u001b[0m \u001b[0mdtype\u001b[0m\u001b[1;33m=\u001b[0m\u001b[0mdtype\u001b[0m\u001b[1;33m)\u001b[0m\u001b[1;33m\u001b[0m\u001b[0m\n\u001b[0m\u001b[0;32m     57\u001b[0m                 \u001b[1;32melse\u001b[0m\u001b[1;33m:\u001b[0m\u001b[1;33m\u001b[0m\u001b[0m\n\u001b[0;32m     58\u001b[0m                     raise ValueError(\"unrecognized %s_matrix constructor usage\" %\n",
      "\u001b[1;31mMemoryError\u001b[0m: "
     ]
    }
   ],
   "source": [
    "print 'start counting'\n",
    "vec_ng1 = CountVectorizer(ngram_range=(1,1))\n",
    "vec_ng2 = CountVectorizer(ngram_range=(2,2))\n",
    "print 'start calculate freqency'\n",
    "count_1 = vec_ng1.fit_transform(yelp_review)\n",
    "print 'start sum'\n",
    "count_sum = count_1.sum(axis=0)\n",
    "print 'start todense'\n",
    "count_1 = count_sum\n",
    "print 'start smoothing'\n",
    "count_1 = count_1+90\n",
    "freq_1 = count_1/float(count_1.sum())\n",
    "print 'start counting ngram2'\n",
    "count_2 = vec_ng2.fit_transform(yelp_review)\n",
    "count_2 = count_2.sum(axis=0)\n",
    "freq_2 = count_2/float(count_2.sum())\n",
    "print 'getting feature names'\n",
    "index1 = vec_ng1.get_feature_names()\n",
    "index2 = vec_ng2.get_feature_names()\n",
    "bigramlist = list()\n",
    "count=0\n",
    "print 'start calculateing bigram factor'\n",
    "for i in index2:\n",
    "    count+=1\n",
    "    sp = i.split()\n",
    "    if sp[0] in index1:\n",
    "        pw1ind=index1.index(sp[0])\n",
    "    if sp[1] in index1:\n",
    "        pw2ind=index1.index(sp[1])\n",
    "    pw1w2ind = index2.index(i)\n",
    "    bigram = (i,pw2[0,pw1w2ind]/pw[0,pw1ind]/pw[0,pw2ind])\n",
    "    bigramlist.append(bigram)\n",
    "    if count%1000==0:\n",
    "        print count\n",
    "sort_bigram = sorted(bigramlist,key = lambda (a,b):-b)[:100]"
   ]
  },
  {
   "cell_type": "code",
   "execution_count": null,
   "metadata": {
    "collapsed": true
   },
   "outputs": [],
   "source": []
  }
 ],
 "metadata": {
  "kernelspec": {
   "display_name": "Python 2",
   "language": "python",
   "name": "python2"
  },
  "language_info": {
   "codemirror_mode": {
    "name": "ipython",
    "version": 2
   },
   "file_extension": ".py",
   "mimetype": "text/x-python",
   "name": "python",
   "nbconvert_exporter": "python",
   "pygments_lexer": "ipython2",
   "version": "2.7.11"
  }
 },
 "nbformat": 4,
 "nbformat_minor": 0
}
