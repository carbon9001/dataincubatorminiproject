{
 "cells": [
  {
   "cell_type": "code",
   "execution_count": null,
   "metadata": {
    "collapsed": false
   },
   "outputs": [],
   "source": [
    "import sklearn as sk\n",
    "import pandas as pd\n",
    "from sklearn.feature_extraction import DictVectorizer\n",
    "def load_json_yelp(filepath):\n",
    "    with open(filepath, 'rb') as f:\n",
    "        data = f.readlines()\n",
    "        data = map(lambda x: x.rstrip(), data)\n",
    "        data_json_str = \"[\" + ','.join(data) + \"]\"\n",
    "        data_df = pd.read_json(data_json_str)\n",
    "    return data_df\n",
    "\n",
    "print'start loading'\n",
    "#data loading\n",
    "filepath = 'yelp_train.json'\n",
    "yelp_data = load_json_yelp(filepath)\n",
    "\n",
    "\n",
    "#use the transformer\n",
    "X = yelp_data['categories']\n",
    "y = yelp_data['stars']\n",
    "\n"
   ]
  },
  {
   "cell_type": "code",
   "execution_count": null,
   "metadata": {
    "collapsed": true
   },
   "outputs": [],
   "source": []
  }
 ],
 "metadata": {
  "kernelspec": {
   "display_name": "Python 2",
   "language": "python",
   "name": "python2"
  },
  "language_info": {
   "codemirror_mode": {
    "name": "ipython",
    "version": 2
   },
   "file_extension": ".py",
   "mimetype": "text/x-python",
   "name": "python",
   "nbconvert_exporter": "python",
   "pygments_lexer": "ipython2",
   "version": "2.7.11"
  }
 },
 "nbformat": 4,
 "nbformat_minor": 0
}
