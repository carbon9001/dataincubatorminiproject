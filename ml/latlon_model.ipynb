{
 "cells": [
  {
   "cell_type": "code",
   "execution_count": 118,
   "metadata": {
    "collapsed": false
   },
   "outputs": [],
   "source": [
    "import pandas as pd\n",
    "import sklearn as sk\n",
    "import cPickle as p\n",
    "from sklearn.neighbors import KNeighborsRegressor\n",
    "from sklearn.cross_validation import train_test_split\n",
    "from sklearn.pipeline import Pipeline\n",
    "from sklearn.grid_search import GridSearchCV\n",
    "import dill\n",
    "\n",
    "#define load the data loading method\n",
    "def load_json_yelp(filepath):\n",
    "    with open(filepath, 'rb') as f:\n",
    "        data = f.readlines()\n",
    "        data = map(lambda x: x.rstrip(), data)\n",
    "        data_json_str = \"[\" + ','.join(data) + \"]\"\n",
    "        data_df = pd.read_json(data_json_str)\n",
    "    return data_df\n",
    "\n",
    "#the place for class definition\n",
    "class  Estimator(sk.base.BaseEstimator, sk.base.RegressorMixin):\n",
    "    \n",
    "    \n",
    "    def fit(self,X,y):\n",
    "        #X_trans = self.transformer.fit(X,y).transform(X)\n",
    "        self.est = KNeighborsRegressor()\n",
    "        test_param = {'n_neighbors':[5,7,9,11,13,15]}\n",
    "        gscv = GridSearchCV(self.est, test_param)\n",
    "        gscv.fit(X,y)\n",
    "        self.est = gscv.best_estimator_\n",
    "        #self.est.fit(X,y)\n",
    "        #pass\n",
    "        return self\n",
    "    \n",
    "    def score(self,X,y):\n",
    "        #X_trans = self.transformer.transform(X)\n",
    "        return self.est.score(X_test,y)\n",
    "    \n",
    "    def predict(self, X):\n",
    "        #X_trans = self.transformer.transform(X)\n",
    "        return self.est.predict(X)\n",
    "\n",
    "#here is the place for trnasformer\n",
    "class Transformer(sk.base.BaseEstimator, sk.base.TransformerMixin):\n",
    "    def __init__(self):\n",
    "        pass\n",
    "        \n",
    "    def fit(self,X,y=None):\n",
    "        return self\n",
    "    \n",
    "    def transform(self,X):\n",
    "        #if type(X) is list:\n",
    "        #   return [[i[\"latitude\"], i[\"longitude\"]] for i in X]\n",
    "        #el\n",
    "        if type(X) == dict:\n",
    "            return [[X[\"latitude\"], X[\"longitude\"]]]\n",
    "        else:\n",
    "            return X[['latitude','longitude']]\n",
    "            #return X\n",
    "\n",
    "\n",
    "#data loading\n",
    "filepath = 'yelp_train.json'\n",
    "yelp_data = load_json_yelp(filepath)\n",
    "\n",
    "#use the transformer\n",
    "X = yelp_data\n",
    "y = yelp_data['stars']\n",
    "#the place for generating cross validation group\n",
    "#X_train, X_test, y_train, y_test = train_test_split(X, y, test_size=0.33, random_state=42)\n",
    "#tuned_variable = {'estimate__n_neighbors':[5,7,9,11,13,15]}\n",
    "pipeline = Pipeline([('getcols',Transformer()),('estimate',Estimator())])\n"
   ]
  },
  {
   "cell_type": "code",
   "execution_count": 120,
   "metadata": {
    "collapsed": false
   },
   "outputs": [
    {
     "name": "stdout",
     "output_type": "stream",
     "text": [
      "Pipeline(steps=[('getcols', Transformer()), ('estimate', Estimator())])\n",
      "[ 4.          3.93333333  3.83333333 ...,  3.96666667  4.06666667\n",
      "  3.66666667]\n",
      "37938\n",
      "done\n"
     ]
    }
   ],
   "source": [
    "presult = pipeline.fit(X,y)\n",
    "#f = file('latlon_model','wb')\n",
    "#dill.dump(presult,f)\n",
    "#f.close()\n",
    "#f = file('latlon_model','rb')\n",
    "#a = dill.load(f)\n",
    "#f.close()\n",
    "#print a\n",
    "\n",
    "with open('latlon_model','wb') as output:\n",
    "    dill.dump(presult,output)\n",
    "\n",
    "with open(\"latlon_model\", 'rb') as in_strm:\n",
    "    datastruct = dill.load(in_strm)\n",
    "\n",
    "print datastruct\n",
    "\n",
    "rr = datastruct.predict(X)\n",
    "print rr\n",
    "print len(rr)\n",
    "print 'done'"
   ]
  },
  {
   "cell_type": "code",
   "execution_count": 122,
   "metadata": {
    "collapsed": false
   },
   "outputs": [
    {
     "name": "stdout",
     "output_type": "stream",
     "text": [
      "grid searching..\n"
     ]
    }
   ],
   "source": [
    "grid_search = GridSearchCV(pipeline, tuned_variable)\n",
    "\n",
    "print 'grid searching..'\n",
    "#grid_search.fit(X_train, y_train)\n",
    "\n",
    "#print(\"Best score: %0.3f\" % grid_search.best_score_)\n",
    "#print(\"Best parameters set:\")\n",
    "#best_parameters = grid_search.best_estimator_.get_params()\n",
    "#for param_name in sorted(tuned_variable.keys()):\n",
    "    #print(\"\\t%s: %r\" % (param_name, best_parameters[param_name]))\n",
    "#y_predict = grid_search.predict(X)\n",
    "\n",
    "#pipeline_best = grid_search.best_estimator_\n",
    "\n",
    "#f = file('latlon_model','wb')\n",
    "#p.dump(pipeline_best,f)\n",
    "#f.close()"
   ]
  },
  {
   "cell_type": "code",
   "execution_count": null,
   "metadata": {
    "collapsed": true
   },
   "outputs": [],
   "source": []
  }
 ],
 "metadata": {
  "kernelspec": {
   "display_name": "Python 2",
   "language": "python",
   "name": "python2"
  },
  "language_info": {
   "codemirror_mode": {
    "name": "ipython",
    "version": 2
   },
   "file_extension": ".py",
   "mimetype": "text/x-python",
   "name": "python",
   "nbconvert_exporter": "python",
   "pygments_lexer": "ipython2",
   "version": "2.7.11"
  }
 },
 "nbformat": 4,
 "nbformat_minor": 0
}
