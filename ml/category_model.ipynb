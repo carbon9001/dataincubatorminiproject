{
 "cells": [
  {
   "cell_type": "code",
   "execution_count": 52,
   "metadata": {
    "collapsed": false
   },
   "outputs": [
    {
     "name": "stdout",
     "output_type": "stream",
     "text": [
      "done\n"
     ]
    }
   ],
   "source": [
    "import pandas as pd\n",
    "import sklearn as sk\n",
    "import cPickle as p\n",
    "import dill\n",
    "from sklearn.feature_extraction import DictVectorizer\n",
    "from sklearn.cross_validation import train_test_split\n",
    "from sklearn.pipeline import Pipeline\n",
    "from sklearn.grid_search import GridSearchCV\n",
    "from sklearn import linear_model\n",
    "\n",
    "#define load the data loading method\n",
    "def load_json_yelp(filepath):\n",
    "    with open(filepath, 'rb') as f:\n",
    "        data = f.readlines()\n",
    "        data = map(lambda x: x.rstrip(), data)\n",
    "        data_json_str = \"[\" + ','.join(data) + \"]\"\n",
    "        data_df = pd.read_json(data_json_str)\n",
    "    return data_df\n",
    "\n",
    "#the place for class definition\n",
    "class  Estimator(sk.base.BaseEstimator, sk.base.RegressorMixin):\n",
    "    def __init__(self,model):\n",
    "        self.est = model\n",
    "        pass\n",
    "    def fit(self,X,y):\n",
    "        test_param = {'alpha':[0.01,0.05,0.1,0.3,0.5,1,10]}\n",
    "        gscv = GridSearchCV(self.est, test_param)\n",
    "        gscv.fit(X,y)\n",
    "        self.est = gscv.best_estimator_\n",
    "        #self.est.fit(X,y)\n",
    "        return self\n",
    "    \n",
    "    def score(self,X,y):\n",
    "        return self.est.score(X_test,y)\n",
    "    \n",
    "    def predict(self, X):\n",
    "        return self.est.predict(X)\n",
    "\n",
    "#here is the place for trnasformer\n",
    "class Transformer(sk.base.BaseEstimator, sk.base.TransformerMixin):\n",
    "    def __init__(self):\n",
    "        self.vectorizer = DictVectorizer()\n",
    "        \n",
    "    def fit(self,X,y=None):\n",
    "        X = X['categories']\n",
    "        new_X = list()\n",
    "        for x in X:\n",
    "            dic = dict()\n",
    "            for nx in x:\n",
    "                dic[nx]=1\n",
    "            dic['pz']=1\n",
    "            new_X.append(dic)\n",
    "        self.vectorizer.fit_transform(new_X)\n",
    "        return self\n",
    "    \n",
    "    def transform(self,X):\n",
    "        X = X['categories']\n",
    "        new_X = list()\n",
    "        if type(X) is list: #for test data\n",
    "            dic = dict()\n",
    "            for x in X:\n",
    "                dic[x]=1\n",
    "            dic['pz']=1\n",
    "            new_X.append(dic)\n",
    "        else:\n",
    "            for x in X:\n",
    "                dic = dict()\n",
    "                for nx in x:\n",
    "                    dic[nx]=1\n",
    "                dic['pz']=1\n",
    "                new_X.append(dic)\n",
    "        X_trans = self.vectorizer.transform(new_X)\n",
    "        return X_trans\n",
    "\n",
    "\n",
    "#data loading\n",
    "filepath = 'yelp_train.json'\n",
    "yelp_data = load_json_yelp(filepath)\n",
    "\n",
    "#use the transformer\n",
    "X = yelp_data\n",
    "y = yelp_data['stars']\n",
    "#the place for generating cross validation group\n",
    "#X_train, X_test, y_train, y_test = train_test_split(X, y, test_size=0.33, random_state=42)\n",
    "#tuned_variable = {'estimate__n_neighbors':[5,7,9,11,13,15]}\n",
    "pipeline = Pipeline([('getcols',Transformer()),('estimate',Estimator(linear_model.Ridge()))])\n",
    "print 'done'"
   ]
  },
  {
   "cell_type": "code",
   "execution_count": 53,
   "metadata": {
    "collapsed": false
   },
   "outputs": [
    {
     "name": "stdout",
     "output_type": "stream",
     "text": [
      "Pipeline(steps=[('getcols', Transformer()), ('estimate', Estimator(model=None))])\n",
      "[ 3.38184949  3.37916397  3.29936325 ...,  4.43342136  3.61306141\n",
      "  3.9587923 ]\n",
      "<type 'numpy.ndarray'>\n",
      "done\n"
     ]
    }
   ],
   "source": [
    "presult = pipeline.fit(X,y)\n",
    "\n",
    "with open('categories_model','wb') as output:\n",
    "    dill.dump(presult,output)\n",
    "\n",
    "with open(\"categories_model\", 'rb') as in_strm:\n",
    "    datastruct = dill.load(in_strm)\n",
    "\n",
    "print datastruct\n",
    "\n",
    "presult = datastruct.predict(X)\n",
    "\n",
    "print presult\n",
    "print type(presult)\n",
    "\n",
    "print 'done'\n"
   ]
  },
  {
   "cell_type": "code",
   "execution_count": null,
   "metadata": {
    "collapsed": true
   },
   "outputs": [],
   "source": []
  }
 ],
 "metadata": {
  "kernelspec": {
   "display_name": "Python 2",
   "language": "python",
   "name": "python2"
  },
  "language_info": {
   "codemirror_mode": {
    "name": "ipython",
    "version": 2
   },
   "file_extension": ".py",
   "mimetype": "text/x-python",
   "name": "python",
   "nbconvert_exporter": "python",
   "pygments_lexer": "ipython2",
   "version": "2.7.11"
  }
 },
 "nbformat": 4,
 "nbformat_minor": 0
}
