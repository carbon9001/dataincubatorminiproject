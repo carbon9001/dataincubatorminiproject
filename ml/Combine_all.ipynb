{
 "cells": [
  {
   "cell_type": "code",
   "execution_count": 238,
   "metadata": {
    "collapsed": false
   },
   "outputs": [],
   "source": [
    "import gzip, ujson, re, json\n",
    "import pandas as pd\n",
    "import numpy as np\n",
    "from sklearn import cross_validation\n",
    "from sklearn import metrics, base, neighbors, grid_search\n",
    "import dill\n",
    "import os\n",
    "from sklearn.feature_extraction import DictVectorizer\n",
    "from sklearn.feature_extraction.text import TfidfVectorizer\n",
    "from scipy import sparse\n",
    "from sklearn import linear_model\n",
    "from sklearn.pipeline import Pipeline, FeatureUnion\n",
    "\n",
    "import toolz\n",
    "def pick(whitelist, dicts):\n",
    "    return [toolz.keyfilter(lambda k: k in whitelist, d)\n",
    "            for d in dicts]\n",
    "# load data into a yelp(a list of dict)\n",
    "yelp = []\n",
    "with gzip.open('yelp_train_academic_dataset_business.json.gz', 'rb') as f:\n",
    "    for line in f:\n",
    "        yelp.append(ujson.loads(line))\n",
    "X = yelp\n",
    "y = [i['stars'] for i in yelp]"
   ]
  },
  {
   "cell_type": "code",
   "execution_count": 232,
   "metadata": {
    "collapsed": false
   },
   "outputs": [],
   "source": [
    "\n"
   ]
  },
  {
   "cell_type": "code",
   "execution_count": 239,
   "metadata": {
    "collapsed": false
   },
   "outputs": [],
   "source": [
    "class Q2Transformer(base.BaseEstimator, base.TransformerMixin):\n",
    "    def __init__(self):\n",
    "        self.trans_=[]\n",
    "\n",
    "    def fit(self, X, y=None):\n",
    "        return self\n",
    "        \n",
    "    def transform(self, X):\n",
    "        if type(X) is list:\n",
    "            return [[i[\"latitude\"], i[\"longitude\"]] for i in X]\n",
    "        else:\n",
    "            return [X[\"latitude\"], X[\"longitude\"]]\n"
   ]
  },
  {
   "cell_type": "code",
   "execution_count": 240,
   "metadata": {
    "collapsed": true
   },
   "outputs": [],
   "source": [
    "class Q3Transformer(base.BaseEstimator, base.TransformerMixin):\n",
    "    '''\n",
    "        class variable: self.col; self.vectorizer\n",
    "    '''\n",
    "    def __init__(self):      \n",
    "        self.col = 'categories' # initialize the column name\n",
    "\n",
    "    def fit(self, X, y=None):\n",
    "        # pick the column\n",
    "        pick_category = pick(self.col, X)\n",
    "        category_train = [' '.join(pick_category[i].values()[0]) for i in range(0,len(pick_category))]\n",
    "        \n",
    "        # transform the training records\n",
    "        self.vectorizer = TfidfVectorizer(min_df=1)  \n",
    "        self.vectorizer.fit_transform(category_train)\n",
    "        \n",
    "        return self\n",
    "\n",
    "    \n",
    "    def transform(self, X):\n",
    "        # transform the test record\n",
    "        if type(X) is list:\n",
    "            pick_category = pick(self.col, X)\n",
    "            category_X = [' '.join(pick_category[i].values()[0]) for i in range(0,len(pick_category))]\n",
    "        else:\n",
    "            category_X = [' '.join(X[self.col])]\n",
    "        \n",
    "        X_trans = self.vectorizer.transform(category_X)\n",
    "        return X_trans \n"
   ]
  },
  {
   "cell_type": "code",
   "execution_count": 241,
   "metadata": {
    "collapsed": true
   },
   "outputs": [],
   "source": [
    "class Q4Transformer(base.BaseEstimator, base.TransformerMixin):\n",
    "    '''\n",
    "        class variable: self.col; self.vectorizer\n",
    "    '''\n",
    "    def __init__(self):      \n",
    "        self.col = 'attributes' # initialize the column name\n",
    "   \n",
    "    # flatten out dics of dicts\n",
    "    def flatten_dict(self, Xdict):\n",
    "        p_dict = Xdict.copy()\n",
    "        for key in p_dict.keys():\n",
    "            #print key, p_dict[key], type(p_dict[key])\n",
    "            if type(p_dict[key]) == dict: \n",
    "                # son is a dict, flatten\n",
    "                son_dict = self.flatten_dict(p_dict[key]).copy()\n",
    "                for son_key in son_dict.keys():\n",
    "                    son_dict[key+'_'+son_key] = son_dict.pop(son_key)\n",
    "                del p_dict[key]\n",
    "                p_dict.update(son_dict)\n",
    "            \n",
    "            elif type(p_dict[key]) in [unicode,str]:\n",
    "                # son is a string, concatate to key\n",
    "                son_str = p_dict[key]\n",
    "                p_dict[key] = 1\n",
    "                p_dict[key+'_'+son_str] = p_dict.pop(key)\n",
    "            \n",
    "            elif type(p_dict[key]) not in [bool, int, float]:    \n",
    "                raise ValueError(\"type error in flatten_dict!\")\n",
    "        return p_dict\n",
    "\n",
    "\n",
    "    def fit(self, X, y=None):\n",
    "        # flatten the train dict\n",
    "        attr_train = [self.flatten_dict(record[self.col]) for record in X]\n",
    "        \n",
    "        # transform the training records\n",
    "        self.vectorizer = DictVectorizer(sparse=False)\n",
    "        self.vectorizer.fit_transform(attr_train)\n",
    "        return self\n",
    "\n",
    "    def transform(self, X):\n",
    "        # transform the test record\n",
    "        if type(X) is list:\n",
    "            attr_X = [self.flatten_dict(record[self.col]) for record in X]\n",
    "        else:\n",
    "            attr_X = self.flatten_dict(X[self.col])\n",
    "        X_trans = self.vectorizer.transform(attr_X)\n",
    "        return X_trans \n"
   ]
  },
  {
   "cell_type": "code",
   "execution_count": 242,
   "metadata": {
    "collapsed": true
   },
   "outputs": [],
   "source": [
    "class Q5Transformer(base.BaseEstimator, base.TransformerMixin):\n",
    "    '''\n",
    "        class variable: self.col; self.vectorizer\n",
    "    '''\n",
    "    def __init__(self):      \n",
    "        self.col = []\n",
    "\n",
    "    def fit(self, X, y=None):\n",
    "        Trans2 = Q2Transformer()\n",
    "        Trans3 = Q3Transformer()\n",
    "        Trans4 = Q4Transformer()\n",
    "        combined_features = FeatureUnion([(\"Q2\", Trans2), (\"Q3\", Trans3), (\"Q4\", Trans4)])\n",
    "        self.fit = combined_features.fit(X)\n",
    "        return self\n",
    "\n",
    "    def transform(self, X):\n",
    "        return self.fit.transform(X).A\n",
    "       \n",
    "        \n",
    "        \n",
    "        \n",
    "class EstimatorQ5(base.BaseEstimator, base.RegressorMixin):\n",
    "    '''\n",
    "        self.col, self.transformer, self.clf\n",
    "    '''\n",
    "    def __init__(self):\n",
    "        Q5transformer = Q5Transformer()  # initialize\n",
    "        self.transformer = Q5transformer\n",
    "\n",
    "    def fit(self, X, y):\n",
    "        # transform training data        \n",
    "        self.transformer.fit(X)\n",
    "        X_train = self.transformer.transform(X)\n",
    "        \n",
    "        # train the model\n",
    "        clf = linear_model.RidgeCV(alphas=[0.1, 1.0, 10.0])\n",
    "        self.clf = clf.fit(X_train, y)        \n",
    "        return self.clf\n",
    "\n",
    "    def predict(self, X):       \n",
    "        X_test = self.transformer.transform(X) # transform test data\n",
    "        \n",
    "        return float(self.clf.predict(X_test)) # predice test result\n"
   ]
  },
  {
   "cell_type": "code",
   "execution_count": 243,
   "metadata": {
    "collapsed": false
   },
   "outputs": [
    {
     "data": {
      "text/plain": [
       "RidgeCV(alphas=[0.1, 1.0, 10.0], cv=None, fit_intercept=True, gcv_mode=None,\n",
       "    normalize=False, scoring=None, store_cv_values=False)"
      ]
     },
     "execution_count": 243,
     "metadata": {},
     "output_type": "execute_result"
    }
   ],
   "source": [
    "Q5estimator = EstimatorQ5()  # initialize\n",
    "Q5estimator.fit(X, y)  # fit data"
   ]
  },
  {
   "cell_type": "code",
   "execution_count": 244,
   "metadata": {
    "collapsed": true
   },
   "outputs": [],
   "source": [
    "dill.dump(Q5estimator, open(\"myQ5\", \"w\"))"
   ]
  },
  {
   "cell_type": "code",
   "execution_count": null,
   "metadata": {
    "collapsed": true
   },
   "outputs": [],
   "source": []
  }
 ],
 "metadata": {
  "kernelspec": {
   "display_name": "Python 2",
   "language": "python",
   "name": "python2"
  },
  "language_info": {
   "codemirror_mode": {
    "name": "ipython",
    "version": 2
   },
   "file_extension": ".py",
   "mimetype": "text/x-python",
   "name": "python",
   "nbconvert_exporter": "python",
   "pygments_lexer": "ipython2",
   "version": "2.7.11"
  }
 },
 "nbformat": 4,
 "nbformat_minor": 0
}
