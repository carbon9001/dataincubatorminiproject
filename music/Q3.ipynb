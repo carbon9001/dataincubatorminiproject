{
 "cells": [
  {
   "cell_type": "code",
   "execution_count": 1,
   "metadata": {
    "collapsed": true
   },
   "outputs": [],
   "source": [
    "import pandas as pd"
   ]
  },
  {
   "cell_type": "code",
   "execution_count": 6,
   "metadata": {
    "collapsed": false
   },
   "outputs": [
    {
     "name": "stdout",
     "output_type": "stream",
     "text": [
      "(1167, 550)\n"
     ]
    }
   ],
   "source": [
    "df = pd.read_csv('df_train_anon.csv',header=None)\n",
    "print df.shape"
   ]
  },
  {
   "cell_type": "code",
   "execution_count": 14,
   "metadata": {
    "collapsed": false
   },
   "outputs": [
    {
     "name": "stdout",
     "output_type": "stream",
     "text": [
      "(1167, 549) (1167,)\n"
     ]
    }
   ],
   "source": [
    "X = df.iloc[:,:549]\n",
    "y = df.iloc[:,549]\n",
    "print X.shape,y.shape"
   ]
  },
  {
   "cell_type": "code",
   "execution_count": 20,
   "metadata": {
    "collapsed": false
   },
   "outputs": [],
   "source": [
    "#build a pipline\n",
    "#gridsearch CV\n",
    "#train X\n",
    "from sklearn.preprocessing import LabelEncoder\n",
    "le = LabelEncoder()\n",
    "le.fit(y.unique())\n",
    "\n",
    "trans_y = le.transform(y)"
   ]
  },
  {
   "cell_type": "code",
   "execution_count": 284,
   "metadata": {
    "collapsed": false
   },
   "outputs": [],
   "source": [
    "import sklearn as sk\n",
    "from sklearn.preprocessing import StandardScaler\n",
    "from sklearn.preprocessing import normalize\n",
    "from sklearn.decomposition import PCA\n",
    "from sklearn.ensemble import RandomForestClassifier\n",
    "from sklearn.pipeline import Pipeline\n",
    "from sklearn.svm import SVC\n",
    "\n",
    "def countaccuracy(ypre,y):\n",
    "    count = 0\n",
    "    total = len(y)\n",
    "    for i in xrange(len(ypre)):\n",
    "        if ypre[i]==y[i]:\n",
    "            count+=1\n",
    "        else:\n",
    "            pass\n",
    "    return count*1.0/total\n",
    "\n",
    "class scalertransform(sk.base.BaseEstimator, sk.base.TransformerMixin):\n",
    "    def __init__(self):#,pcaparam):\n",
    "        self.scaler = StandardScaler()\n",
    "        #self.scaler = normalize(axis=0)\n",
    "        #self.dimred = PCA(n_components=pcaparam)\n",
    "        #self.le = LabelEncoder()\n",
    "        self.dimred = PCA(n_components=60)\n",
    "        pass\n",
    "    \n",
    "    def fit(self,X,y):\n",
    "        #self.le.fit(y.unique())\n",
    "        #temp = normalize(X)\n",
    "        self.scaler.fit(X,y)\n",
    "        temp = self.scaler.transform(X)\n",
    "        \n",
    "        \n",
    "        self.dimred.fit(temp,y)\n",
    "        return self\n",
    "    \n",
    "    def transform(self,X):\n",
    "        #temp = normalize(X)\n",
    "        temp = self.scaler.transform(X)\n",
    "        X_trans = self.dimred.transform(temp)\n",
    "        #print X_trans.shape\n",
    "        return X_trans\n",
    "\n",
    "class estimator(sk.base.BaseEstimator, sk.base.RegressorMixin):\n",
    "    def __init__(self):\n",
    "        self.est = RandomForestClassifier(n_estimators=50)\n",
    "        #self.est = SVC()\n",
    "        \n",
    "    def fit(self,X,y):\n",
    "        self.est.fit(X,y)\n",
    "        return self\n",
    "        \n",
    "    def predict(self,X):\n",
    "        return self.est.predict(X)\n",
    "    \n",
    "    def socre(self,X,y):\n",
    "        return self.est.score(X,y)\n",
    "    \n",
    "pipeline = Pipeline([('scaler',scalertransform()),('estimator',estimator())])"
   ]
  },
  {
   "cell_type": "code",
   "execution_count": 276,
   "metadata": {
    "collapsed": false
   },
   "outputs": [],
   "source": [
    "#from sklearn.grid_search import GridSearchCV\n",
    "#pipeline.get_params\n",
    "#a=dict(scaler__pcaparam=[40,50,60])\n",
    "#print a\n",
    "#gscv = GridSearchCV(pipeline,param_grid=[a])\n",
    "#print gscv\n",
    "#pipeline.scaler.get_params().keys()"
   ]
  },
  {
   "cell_type": "code",
   "execution_count": 277,
   "metadata": {
    "collapsed": false
   },
   "outputs": [
    {
     "name": "stdout",
     "output_type": "stream",
     "text": [
      "<class 'pandas.core.frame.DataFrame'> <type 'numpy.ndarray'>\n",
      "<type 'numpy.ndarray'>\n",
      "(800, 60)\n"
     ]
    },
    {
     "data": {
      "text/plain": [
       "Pipeline(steps=[('scaler', scalertransform()), ('estimator', estimator())])"
      ]
     },
     "execution_count": 277,
     "metadata": {},
     "output_type": "execute_result"
    }
   ],
   "source": [
    "#gscv.fit(X,trans_y)\n",
    "print type(X),type(trans_y)\n",
    "X2 = X.as_matrix()\n",
    "print type(X2)\n",
    "pipeline.fit(X2[:800,:],trans_y[:800])"
   ]
  },
  {
   "cell_type": "code",
   "execution_count": 278,
   "metadata": {
    "collapsed": false
   },
   "outputs": [
    {
     "name": "stdout",
     "output_type": "stream",
     "text": [
      "[[  8.93099e-03   8.91138e-05 ...,   1.73343e-01   9.93840e+01]\n",
      " [  9.04362e-03   1.40528e-04 ...,   5.78411e-01   1.23047e+02]\n",
      " ..., \n",
      " [  1.73311e-01   1.16585e-02 ...,   4.72950e-01   1.20185e+02]\n",
      " [  1.76325e-01   2.42321e-03 ...,   3.02260e-01   1.01333e+02]]\n",
      "(367, 60)\n",
      "0.111031096563\n",
      "(367, 60)\n",
      "<type 'numpy.ndarray'> <type 'numpy.ndarray'>\n",
      "(367,) (367,)\n",
      "0.773841961853\n"
     ]
    }
   ],
   "source": [
    "print X2\n",
    "print pipeline.score(X2[800:,:],trans_y[800:])\n",
    "#print pipeline.score(X2[:800,:],trans_y[:800])\n",
    "ypre = pipeline.predict(X2[800:,:])\n",
    "print type(ypre),type(trans_y[800:])\n",
    "print ypre.shape,trans_y[800:].shape\n",
    "print countaccuracy(ypre,trans_y[800:])"
   ]
  },
  {
   "cell_type": "code",
   "execution_count": 286,
   "metadata": {
    "collapsed": false
   },
   "outputs": [],
   "source": [
    "import dill\n",
    "pipeline.fit(X,trans_y)\n",
    "with open('encoder.model','wb') as f:\n",
    "    dill.dump(le,f)\n",
    "f.close()\n",
    "with open('predict.model','wb') as f:\n",
    "    dill.dump(pipeline,f)\n",
    "f.close()"
   ]
  },
  {
   "cell_type": "code",
   "execution_count": 287,
   "metadata": {
    "collapsed": true
   },
   "outputs": [],
   "source": [
    "with open('predict.model','rb') as f:\n",
    "    ppp = dill.load(f)"
   ]
  },
  {
   "cell_type": "code",
   "execution_count": 297,
   "metadata": {
    "collapsed": false
   },
   "outputs": [
    {
     "name": "stdout",
     "output_type": "stream",
     "text": [
      "2\n"
     ]
    }
   ],
   "source": [
    "result = ppp.predict([X2[0,:]])\n",
    "print result[0]"
   ]
  },
  {
   "cell_type": "code",
   "execution_count": 300,
   "metadata": {
    "collapsed": false
   },
   "outputs": [
    {
     "name": "stdout",
     "output_type": "stream",
     "text": [
      "['jazz']\n"
     ]
    }
   ],
   "source": [
    "print le.inverse_transform(result)"
   ]
  },
  {
   "cell_type": "code",
   "execution_count": null,
   "metadata": {
    "collapsed": true
   },
   "outputs": [],
   "source": []
  }
 ],
 "metadata": {
  "kernelspec": {
   "display_name": "Python 2",
   "language": "python",
   "name": "python2"
  },
  "language_info": {
   "codemirror_mode": {
    "name": "ipython",
    "version": 2
   },
   "file_extension": ".py",
   "mimetype": "text/x-python",
   "name": "python",
   "nbconvert_exporter": "python",
   "pygments_lexer": "ipython2",
   "version": "2.7.11"
  }
 },
 "nbformat": 4,
 "nbformat_minor": 0
}
