{
 "cells": [
  {
   "cell_type": "code",
   "execution_count": 23,
   "metadata": {
    "collapsed": false
   },
   "outputs": [
    {
     "name": "stdout",
     "output_type": "stream",
     "text": [
      "./trainmusic/data/train/train_0002.mp3\n",
      "(2, 44100, 10.0)\n"
     ]
    }
   ],
   "source": [
    "import audioread\n",
    "import audioop\n",
    "import numpy as np\n",
    "import librosa.feature as lf\n",
    "\n",
    "winsize = 4410\n",
    "sr = 44100\n",
    "total_music = 1\n",
    "X = list()\n",
    "#c=list()\n",
    "for j in xrange(total_music):\n",
    "    j=1\n",
    "    if j+1<10:\n",
    "        filename = './trainmusic/data/train/train_000'+str(j+1)+'.mp3'\n",
    "    elif j+1<100:\n",
    "        filename = './trainmusic/data/train/train_00'+str(j+1)+'.mp3'\n",
    "    elif j+1<1000:\n",
    "        filename = './trainmusic/data/train/train_0'+str(j+1)+'.mp3'\n",
    "    else:\n",
    "        filename = './trainmusic/data/train/train_'+str(j+1)+'.mp3'\n",
    "    raw_string=''\n",
    "    print filename\n",
    "    with audioread.audio_open(filename) as f:\n",
    "        print(f.channels, f.samplerate, f.duration)\n",
    "        for buf in f:\n",
    "            raw_string+=buf\n",
    "    raw_amp = np.fromstring(raw_string,dtype=\"int16\")\n",
    "    mfcc = lf.mfcc(y=raw_amp,sr=sr,S=None)#,n_mfcc=20)\n",
    "    break"
   ]
  },
  {
   "cell_type": "code",
   "execution_count": 25,
   "metadata": {
    "collapsed": false
   },
   "outputs": [
    {
     "name": "stdout",
     "output_type": "stream",
     "text": [
      "1733\n",
      "[[  5.09998948e+02   5.26876937e+02   5.71228492e+02 ...,   5.09998948e+02\n",
      "    5.09998948e+02   5.09998948e+02]\n",
      " [  2.63676302e-14   1.75096972e+01   3.73819816e+01 ...,   5.95079541e-14\n",
      "    5.95079541e-14   5.95079541e-14]\n",
      " [ -6.43878403e-14   1.05223054e+01   1.63837099e+01 ...,  -1.52094965e-14\n",
      "   -1.52094965e-14  -1.52094965e-14]\n",
      " ..., \n",
      " [  5.05375895e-14  -4.19780341e+00  -1.71273386e+00 ...,   5.32907052e-14\n",
      "    5.32907052e-14   5.32907052e-14]\n",
      " [ -8.27596844e-15  -4.57368478e+00  -6.33379831e+00 ...,  -6.21724894e-15\n",
      "   -6.21724894e-15  -6.21724894e-15]\n",
      " [ -3.10862447e-14  -5.36869940e+00  -9.94500631e+00 ...,  -3.37507799e-14\n",
      "   -3.37507799e-14  -3.37507799e-14]]\n"
     ]
    }
   ],
   "source": [
    "print len(mfcc[0])\n",
    "print mfcc"
   ]
  },
  {
   "cell_type": "code",
   "execution_count": null,
   "metadata": {
    "collapsed": true
   },
   "outputs": [],
   "source": []
  }
 ],
 "metadata": {
  "kernelspec": {
   "display_name": "Python 2",
   "language": "python",
   "name": "python2"
  },
  "language_info": {
   "codemirror_mode": {
    "name": "ipython",
    "version": 2
   },
   "file_extension": ".py",
   "mimetype": "text/x-python",
   "name": "python",
   "nbconvert_exporter": "python",
   "pygments_lexer": "ipython2",
   "version": "2.7.11"
  }
 },
 "nbformat": 4,
 "nbformat_minor": 0
}
