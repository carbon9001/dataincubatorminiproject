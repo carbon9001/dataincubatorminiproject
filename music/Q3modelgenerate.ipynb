{
 "cells": [
  {
   "cell_type": "code",
   "execution_count": 1,
   "metadata": {
    "collapsed": true
   },
   "outputs": [],
   "source": [
    "import pandas as pd"
   ]
  },
  {
   "cell_type": "code",
   "execution_count": 2,
   "metadata": {
    "collapsed": false
   },
   "outputs": [
    {
     "name": "stdout",
     "output_type": "stream",
     "text": [
      "(1167, 550)\n"
     ]
    }
   ],
   "source": [
    "df = pd.read_csv('df_train_anon.csv',header=None)\n",
    "print df.shape"
   ]
  },
  {
   "cell_type": "code",
   "execution_count": 3,
   "metadata": {
    "collapsed": false
   },
   "outputs": [
    {
     "name": "stdout",
     "output_type": "stream",
     "text": [
      "(1167, 549) (1167,)\n"
     ]
    }
   ],
   "source": [
    "X = df.iloc[:,:549]\n",
    "y = df.iloc[:,549]\n",
    "print X.shape,y.shape"
   ]
  },
  {
   "cell_type": "code",
   "execution_count": null,
   "metadata": {
    "collapsed": true
   },
   "outputs": [],
   "source": [
    "import sklearn as sk\n",
    "from sklearn.preprocessing import StandardScaler\n",
    "from sklearn.preprocessing import normalize\n",
    "from sklearn.decomposition import PCA\n",
    "from sklearn.ensemble import RandomForestClassifier\n",
    "from sklearn.pipeline import Pipeline\n",
    "from sklearn.svm import SVC\n",
    "from sklearn.preprocessing import LabelEncoder\n",
    "\n",
    "class scalertransform(sk.base.BaseEstimator, sk.base.TransformerMixin):\n",
    "    def __init__(self):#,pcaparam):\n",
    "        self.scaler = StandardScaler()\n",
    "        self.le = LabelEncoder()\n",
    "        #self.scaler = normalize(axis=0)\n",
    "        #self.dimred = PCA(n_components=pcaparam)\n",
    "        #self.le = LabelEncoder()\n",
    "        self.dimred = PCA(n_components=60)\n",
    "        pass\n",
    "    \n",
    "    def fit(self,X,y):\n",
    "        #self.le.fit(y.unique())\n",
    "        #temp = normalize(X)\n",
    "        self.le.fit(unique(y))\n",
    "        yt = self.le.transform(y)\n",
    "        self.scaler.fit(X,yt)\n",
    "        temp = self.scaler.transform(X)\n",
    "        \n",
    "        \n",
    "        self.dimred.fit(temp,y)\n",
    "        return self\n",
    "    \n",
    "    def transform(self,X):\n",
    "        #temp = normalize(X)\n",
    "        temp = self.scaler.transform(X)\n",
    "        X_trans = self.dimred.transform(temp)\n",
    "        print X_trans.shape\n",
    "        return X_trans\n",
    "\n",
    "class estimator(sk.base.BaseEstimator, sk.base.RegressorMixin):\n",
    "    def __init__(self):\n",
    "        self.est = RandomForestClassifier(n_estimators=50)\n",
    "        #self.est = SVC()\n",
    "        \n",
    "    def fit(self,X,y):\n",
    "        self.est.fit(X,y)\n",
    "        return self\n",
    "        \n",
    "    def predict(self,X):\n",
    "        return self.est.predict(X)\n",
    "    \n",
    "    def socre(self,X,y):\n",
    "        return self.est.score(X,y)\n",
    "    \n",
    "pipeline = Pipeline([('scaler',scalertransform()),('estimator',estimator())])"
   ]
  }
 ],
 "metadata": {
  "kernelspec": {
   "display_name": "Python 2",
   "language": "python",
   "name": "python2"
  },
  "language_info": {
   "codemirror_mode": {
    "name": "ipython",
    "version": 2
   },
   "file_extension": ".py",
   "mimetype": "text/x-python",
   "name": "python",
   "nbconvert_exporter": "python",
   "pygments_lexer": "ipython2",
   "version": "2.7.11"
  }
 },
 "nbformat": 4,
 "nbformat_minor": 0
}
