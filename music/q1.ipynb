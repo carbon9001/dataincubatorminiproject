{
 "cells": [
  {
   "cell_type": "code",
   "execution_count": 171,
   "metadata": {
    "collapsed": true
   },
   "outputs": [],
   "source": [
    "# path ./trainmusic/data/train/train_1092.mp3\n",
    "#with open('./trainmusic/data/train/train_1092.mp3','rb') as f:\n",
    "    #a = f.readline()\n",
    "\n",
    "def zero_crossing_rate(wavedata, block_length, sample_rate):\n",
    "    \n",
    "    # how many blocks have to be processed?\n",
    "    num_blocks = int(np.ceil(len(wavedata)/block_length))\n",
    "    \n",
    "    # when do these blocks begin (time in seconds)?\n",
    "    #timestamps = (np.arange(0,num_blocks - 1) * (block_length / float(samplerate)))\n",
    "    \n",
    "    zcr = []\n",
    "    \n",
    "    for i in range(0,num_blocks-1):\n",
    "        \n",
    "        start = i * block_length\n",
    "        stop  = np.min([(start + block_length - 1), len(wavedata)])\n",
    "        \n",
    "        zc = 0.5 * np.mean(np.abs(np.diff(np.sign(wavedata[start:stop]))))\n",
    "        zcr.append(zc)\n",
    "    \n",
    "    return np.asarray(zcr)#, np.asarray(timestamps)\n",
    "\n",
    "def root_mean_square(wavedata, block_length, sample_rate):\n",
    "    \n",
    "    # how many blocks have to be processed?\n",
    "    num_blocks = int(np.ceil(len(wavedata)/block_length))\n",
    "    \n",
    "    # when do these blocks begin (time in seconds)?\n",
    "    #timestamps = (np.arange(0,num_blocks - 1) * (block_length / float(samplerate)))\n",
    "    \n",
    "    rms = []\n",
    "    \n",
    "    for i in range(0,num_blocks-1):\n",
    "        \n",
    "        start = i * block_length\n",
    "        stop  = np.min([(start + block_length - 1), len(wavedata)])\n",
    "        \n",
    "        rms_seg = np.mean(wavedata[start:stop]**2)\n",
    "        rms.append(rms_seg)\n",
    "    \n",
    "    return np.asarray(rms)#, np.asarray(timestamps)\n"
   ]
  },
  {
   "cell_type": "code",
   "execution_count": 187,
   "metadata": {
    "collapsed": false
   },
   "outputs": [
    {
     "name": "stdout",
     "output_type": "stream",
     "text": [
      "current progress is 0\n",
      "current progress is 100\n",
      "current progress is 200\n",
      "current progress is 300\n",
      "current progress is 400\n",
      "current progress is 500\n",
      "current progress is 600\n",
      "current progress is 700\n",
      "current progress is 800\n",
      "current progress is 900\n",
      "current progress is 1000\n",
      "current progress is 1100\n"
     ]
    }
   ],
   "source": [
    "import audioread\n",
    "import audioop\n",
    "import numpy as np\n",
    "\n",
    "winsize = 4410\n",
    "total_music = 1167\n",
    "X = list()\n",
    "#c=list()\n",
    "for j in xrange(total_music):\n",
    "    if j+1<10:\n",
    "        filename = './trainmusic/data/train/train_000'+str(j+1)+'.mp3'\n",
    "    elif j+1<100:\n",
    "        filename = './trainmusic/data/train/train_00'+str(j+1)+'.mp3'\n",
    "    elif j+1<1000:\n",
    "        filename = './trainmusic/data/train/train_0'+str(j+1)+'.mp3'\n",
    "    else:\n",
    "        filename = './trainmusic/data/train/train_'+str(j+1)+'.mp3'\n",
    "    raw_string=''\n",
    "    with audioread.audio_open(filename) as f:\n",
    "        #print(f.channels, f.samplerate, f.duration)\n",
    "        sr = f.samplerate\n",
    "        for buf in f:\n",
    "            raw_string+=buf\n",
    "    raw_amp = np.fromstring(raw_string,dtype=\"int16\")\n",
    "    #print len(raw_amp),type(raw_amp)\n",
    "    leftamp = raw_amp[::2]\n",
    "    rightamp= raw_amp[1::2]\n",
    "    #print len(leftamp),type(leftamp),len(rightamp),type(rightamp)\n",
    "    zerocrossl = list()\n",
    "    zerocrossr = list()\n",
    "    rootmsl = list()\n",
    "    rootmsr = list()\n",
    "    #for i in xrange(0,len(leftamp)-winsize+1,winsize/2):\n",
    "        #zerocrossl.append(zero_crossing_rate(leftamp[i:i+winsize],winsize,sr))\n",
    "        #rootmsl.append(root_mean_square(leftamp[i:i+winsize],winsize,sr))\n",
    "        #zerocrossr.append(zero_crossing_rate(rightamp[i:i+winsize],winsize,sr))\n",
    "        #rootmsr.append(root_mean_square(rightamp[i:i+winsize],winsize,sr))\n",
    "    zerocrossl=zero_crossing_rate(leftamp,winsize,sr)\n",
    "    rootmsl=root_mean_square(leftamp,winsize,sr)\n",
    "    zerocrossr=zero_crossing_rate(rightamp,winsize,sr)\n",
    "    rootmsr=root_mean_square(rightamp,winsize,sr)\n",
    "    zerocrossl=np.asarray(zerocrossl)\n",
    "    rootmsl = np.asarray(rootmsl)\n",
    "    zerocrossr=np.asarray(zerocrossr)\n",
    "    rootmsr = np.asarray(rootmsr)\n",
    "    #zerocross = zero_crossing_rate(raw_amp,winsize)\n",
    "    #rootms = root_mean_square(raw_amp,winsize)\n",
    "    diffzerol = np.diff(zerocrossl)\n",
    "    diffzeror = np.diff(zerocrossr)\n",
    "    #print len(zerocross),len(rootms)\n",
    "    vector = [zerocrossl.mean(),zerocrossl.std(),zerocrossr.mean(),zerocrossr.std(),diffzerol.mean(),diffzerol.std(),diffzeror.mean(),diffzeror.std(),rootmsl.mean(),rootmsl.std(),rootmsr.mean(),rootmsr.std()]\n",
    "    X.append(vector)\n",
    "    if j%100==0:\n",
    "        print 'current progress is '+str(j)"
   ]
  },
  {
   "cell_type": "code",
   "execution_count": 188,
   "metadata": {
    "collapsed": false
   },
   "outputs": [
    {
     "name": "stdout",
     "output_type": "stream",
     "text": [
      "[0.036910621642926543, 0.024794724535241529, 0.037373508221965571, 0.024761325978969018, -0.00076275973184191954, 0.028724772956820993, -0.00067942331197451725, 0.029567666475432464, 123.51168752620327, 303.62575044206756, 99.908266149817493, 270.06765843651488]\n",
      "1167 <type 'list'>\n",
      "[0.064186557040459044, 0.023622476205891921, 0.06508483198592091, 0.019977175275142409, -0.00015625578725137978, 0.020502584810756785, -2.1991555242786885e-05, 0.015751605744672856, 215.40536460087378, 355.68239208774287, 146.00534031629519, 313.65808964626245]\n"
     ]
    }
   ],
   "source": [
    "print vector\n",
    "print len(X), type(X)\n",
    "print X[0]\n",
    "for i in xrange(len(X)):\n",
    "    if X[i][8] == None:\n",
    "        print '?'"
   ]
  },
  {
   "cell_type": "code",
   "execution_count": 189,
   "metadata": {
    "collapsed": false
   },
   "outputs": [],
   "source": [
    "import sklearn as sk\n",
    "from sklearn.ensemble import RandomForestClassifier\n",
    "from sklearn.preprocessing import LabelEncoder\n",
    "import pandas as pd\n",
    "from sklearn.svm import SVC\n",
    "from sklearn.tree import DecisionTreeClassifier\n",
    "\n",
    "labelcsv = pd.read_csv('music_train_labels.csv')\n",
    "label = labelcsv['genre']\n",
    "le = LabelEncoder()\n",
    "le.fit(label.unique())\n",
    "trans_label = le.transform(label)"
   ]
  },
  {
   "cell_type": "code",
   "execution_count": 217,
   "metadata": {
    "collapsed": false
   },
   "outputs": [
    {
     "name": "stdout",
     "output_type": "stream",
     "text": [
      "0.506666666667\n"
     ]
    },
    {
     "data": {
      "text/plain": [
       "RandomForestClassifier(bootstrap=True, class_weight=None, criterion='gini',\n",
       "            max_depth=None, max_features='auto', max_leaf_nodes=None,\n",
       "            min_samples_leaf=1, min_samples_split=2,\n",
       "            min_weight_fraction_leaf=0.0, n_estimators=50, n_jobs=1,\n",
       "            oob_score=False, random_state=None, verbose=0,\n",
       "            warm_start=False)"
      ]
     },
     "execution_count": 217,
     "metadata": {},
     "output_type": "execute_result"
    }
   ],
   "source": [
    "rfc = RandomForestClassifier(n_estimators=50)\n",
    "#sv = SVC()\n",
    "rfc.fit(X[:800],trans_label[:800])\n",
    "print rfc.score(X[800:1100],trans_label[800:1100])\n",
    "#sv.fit(X,trans_label)\n",
    "#sv.score(X,trans_label)\n",
    "#dtc = DecisionTreeClassifier()\n",
    "#dtc.fit(X[:800],trans_label[:800])\n",
    "#print dtc.score(X[800:1100],trans_label[800:1100])\n",
    "rfc.fit(X,trans_label)"
   ]
  },
  {
   "cell_type": "code",
   "execution_count": 218,
   "metadata": {
    "collapsed": false
   },
   "outputs": [
    {
     "name": "stdout",
     "output_type": "stream",
     "text": [
      "current progress is 0\n",
      "current progress is 100\n"
     ]
    }
   ],
   "source": [
    "total_music_test=145\n",
    "sol = dict()\n",
    "sol2=dict()\n",
    "for j in xrange(total_music_test):\n",
    "    if j+1<10:\n",
    "        fl = 'fe_test_000'+str(j+1)+'.mp3'\n",
    "        filename = './testmusic/data/feature_extraction_test/fe_test_000'+str(j+1)+'.mp3'\n",
    "    elif j+1<100:\n",
    "        fl = 'fe_test_00'+str(j+1)+'.mp3'\n",
    "        filename = './testmusic/data/feature_extraction_test/fe_test_00'+str(j+1)+'.mp3'\n",
    "    elif j+1<1000:\n",
    "        fl = 'fe_test_0'+str(j+1)+'.mp3'\n",
    "        filename = './testmusic/data/feature_extraction_test/fe_test_0'+str(j+1)+'.mp3'\n",
    "    else:\n",
    "        fl = 'fe_test_'+str(j+1)+'.mp3'\n",
    "        filename = './testmusic/data/feature_extraction_test/fe_test_'+str(j+1)+'.mp3'\n",
    "    raw_string=''\n",
    "    with audioread.audio_open(filename) as f:\n",
    "        #print(f.channels, f.samplerate, f.duration)\n",
    "        sr = f.samplerate\n",
    "        for buf in f:\n",
    "            raw_string+=buf\n",
    "    raw_amp = np.fromstring(raw_string,dtype=\"int16\")\n",
    "    #print len(raw_amp),type(raw_amp)\n",
    "    leftamp = raw_amp[::2]\n",
    "    rightamp= raw_amp[1::2]\n",
    "    #print len(leftamp),type(leftamp),len(rightamp),type(rightamp)\n",
    "    zerocrossl = list()\n",
    "    zerocrossr = list()\n",
    "    rootmsl = list()\n",
    "    rootmsr = list()\n",
    "    #for i in xrange(0,len(leftamp)-winsize+1,winsize/2):\n",
    "        #zerocrossl.append(zero_crossing_rate(leftamp[i:i+winsize],winsize,sr))\n",
    "        #rootmsl.append(root_mean_square(leftamp[i:i+winsize],winsize,sr))\n",
    "        #zerocrossr.append(zero_crossing_rate(rightamp[i:i+winsize],winsize,sr))\n",
    "        #rootmsr.append(root_mean_square(rightamp[i:i+winsize],winsize,sr))\n",
    "    zerocrossl=zero_crossing_rate(leftamp,winsize,sr)\n",
    "    rootmsl=root_mean_square(leftamp,winsize,sr)\n",
    "    zerocrossr=zero_crossing_rate(rightamp,winsize,sr)\n",
    "    rootmsr=root_mean_square(rightamp,winsize,sr)\n",
    "    zerocrossl=np.asarray(zerocrossl)\n",
    "    rootmsl = np.asarray(rootmsl)\n",
    "    zerocrossr=np.asarray(zerocrossr)\n",
    "    rootmsr = np.asarray(rootmsr)\n",
    "    #zerocross = zero_crossing_rate(raw_amp,winsize)\n",
    "    #rootms = root_mean_square(raw_amp,winsize)\n",
    "    diffzerol = np.diff(zerocrossl)\n",
    "    diffzeror = np.diff(zerocrossr)\n",
    "    #print len(zerocross),len(rootms)\n",
    "    vector = [zerocrossl.mean(),zerocrossl.std(),zerocrossr.mean(),zerocrossr.std(),diffzerol.mean(),diffzerol.std(),diffzeror.mean(),diffzeror.std(),rootmsl.mean(),rootmsl.std(),rootmsr.mean(),rootmsr.std()]\n",
    "\n",
    "    result = rfc.predict([vector])\n",
    "    #result_sv = sv.predict(vector)\n",
    "    genre = le.inverse_transform(result)\n",
    "    #genresv = le.inverse_transform(result_sv)\n",
    "    #print len(genre)\n",
    "    sol[fl]=genre[0]\n",
    "    #sol2[fl]=genresv[0]\n",
    "    if j%100==0:\n",
    "        print 'current progress is '+str(j)"
   ]
  },
  {
   "cell_type": "code",
   "execution_count": 219,
   "metadata": {
    "collapsed": false
   },
   "outputs": [
    {
     "name": "stdout",
     "output_type": "stream",
     "text": [
      "{'fe_test_0041.mp3': 'electronic', 'fe_test_0023.mp3': 'folkcountry', 'fe_test_0079.mp3': 'raphiphop', 'fe_test_0144.mp3': 'raphiphop', 'fe_test_0133.mp3': 'raphiphop', 'fe_test_0019.mp3': 'jazz', 'fe_test_0052.mp3': 'jazz', 'fe_test_0059.mp3': 'raphiphop', 'fe_test_0017.mp3': 'raphiphop', 'fe_test_0103.mp3': 'rock', 'fe_test_0111.mp3': 'folkcountry', 'fe_test_0024.mp3': 'folkcountry', 'fe_test_0012.mp3': 'folkcountry', 'fe_test_0075.mp3': 'rock', 'fe_test_0115.mp3': 'jazz', 'fe_test_0062.mp3': 'jazz', 'fe_test_0137.mp3': 'rock', 'fe_test_0055.mp3': 'jazz', 'fe_test_0093.mp3': 'rock', 'fe_test_0049.mp3': 'jazz', 'fe_test_0016.mp3': 'rock', 'fe_test_0026.mp3': 'jazz', 'fe_test_0002.mp3': 'rock', 'fe_test_0065.mp3': 'folkcountry', 'fe_test_0129.mp3': 'folkcountry', 'fe_test_0045.mp3': 'rock', 'fe_test_0057.mp3': 'rock', 'fe_test_0127.mp3': 'raphiphop', 'fe_test_0015.mp3': 'rock', 'fe_test_0124.mp3': 'raphiphop', 'fe_test_0114.mp3': 'rock', 'fe_test_0145.mp3': 'raphiphop', 'fe_test_0120.mp3': 'raphiphop', 'fe_test_0089.mp3': 'raphiphop', 'fe_test_0108.mp3': 'rock', 'fe_test_0142.mp3': 'jazz', 'fe_test_0047.mp3': 'raphiphop', 'fe_test_0048.mp3': 'jazz', 'fe_test_0009.mp3': 'rock', 'fe_test_0116.mp3': 'rock', 'fe_test_0077.mp3': 'jazz', 'fe_test_0001.mp3': 'jazz', 'fe_test_0073.mp3': 'raphiphop', 'fe_test_0040.mp3': 'rock', 'fe_test_0058.mp3': 'jazz', 'fe_test_0109.mp3': 'jazz', 'fe_test_0125.mp3': 'rock', 'fe_test_0084.mp3': 'rock', 'fe_test_0032.mp3': 'jazz', 'fe_test_0078.mp3': 'rock', 'fe_test_0036.mp3': 'rock', 'fe_test_0135.mp3': 'folkcountry', 'fe_test_0018.mp3': 'raphiphop', 'fe_test_0056.mp3': 'rock', 'fe_test_0098.mp3': 'rock', 'fe_test_0139.mp3': 'folkcountry', 'fe_test_0083.mp3': 'raphiphop', 'fe_test_0087.mp3': 'rock', 'fe_test_0064.mp3': 'raphiphop', 'fe_test_0074.mp3': 'rock', 'fe_test_0143.mp3': 'jazz', 'fe_test_0022.mp3': 'jazz', 'fe_test_0021.mp3': 'jazz', 'fe_test_0037.mp3': 'rock', 'fe_test_0104.mp3': 'folkcountry', 'fe_test_0025.mp3': 'raphiphop', 'fe_test_0134.mp3': 'jazz', 'fe_test_0140.mp3': 'rock', 'fe_test_0131.mp3': 'jazz', 'fe_test_0007.mp3': 'rock', 'fe_test_0130.mp3': 'electronic', 'fe_test_0043.mp3': 'rock', 'fe_test_0092.mp3': 'electronic', 'fe_test_0082.mp3': 'rock', 'fe_test_0100.mp3': 'jazz', 'fe_test_0035.mp3': 'rock', 'fe_test_0086.mp3': 'jazz', 'fe_test_0118.mp3': 'folkcountry', 'fe_test_0067.mp3': 'folkcountry', 'fe_test_0076.mp3': 'jazz', 'fe_test_0107.mp3': 'jazz', 'fe_test_0095.mp3': 'rock', 'fe_test_0096.mp3': 'rock', 'fe_test_0091.mp3': 'raphiphop', 'fe_test_0112.mp3': 'rock', 'fe_test_0020.mp3': 'rock', 'fe_test_0014.mp3': 'rock', 'fe_test_0068.mp3': 'rock', 'fe_test_0117.mp3': 'jazz', 'fe_test_0039.mp3': 'raphiphop', 'fe_test_0010.mp3': 'raphiphop', 'fe_test_0141.mp3': 'raphiphop', 'fe_test_0044.mp3': 'jazz', 'fe_test_0072.mp3': 'raphiphop', 'fe_test_0050.mp3': 'jazz', 'fe_test_0099.mp3': 'jazz', 'fe_test_0097.mp3': 'rock', 'fe_test_0090.mp3': 'rock', 'fe_test_0113.mp3': 'jazz', 'fe_test_0105.mp3': 'electronic', 'fe_test_0088.mp3': 'rock', 'fe_test_0029.mp3': 'jazz', 'fe_test_0006.mp3': 'rock', 'fe_test_0008.mp3': 'rock', 'fe_test_0110.mp3': 'rock', 'fe_test_0081.mp3': 'jazz', 'fe_test_0011.mp3': 'jazz', 'fe_test_0122.mp3': 'rock', 'fe_test_0066.mp3': 'rock', 'fe_test_0005.mp3': 'rock', 'fe_test_0061.mp3': 'raphiphop', 'fe_test_0051.mp3': 'jazz', 'fe_test_0042.mp3': 'folkcountry', 'fe_test_0126.mp3': 'jazz', 'fe_test_0013.mp3': 'rock', 'fe_test_0132.mp3': 'rock', 'fe_test_0119.mp3': 'rock', 'fe_test_0136.mp3': 'rock', 'fe_test_0094.mp3': 'rock', 'fe_test_0031.mp3': 'rock', 'fe_test_0106.mp3': 'rock', 'fe_test_0121.mp3': 'jazz', 'fe_test_0034.mp3': 'jazz', 'fe_test_0004.mp3': 'raphiphop', 'fe_test_0070.mp3': 'jazz', 'fe_test_0046.mp3': 'folkcountry', 'fe_test_0054.mp3': 'jazz', 'fe_test_0080.mp3': 'folkcountry', 'fe_test_0030.mp3': 'rock', 'fe_test_0123.mp3': 'rock', 'fe_test_0085.mp3': 'raphiphop', 'fe_test_0028.mp3': 'raphiphop', 'fe_test_0038.mp3': 'folkcountry', 'fe_test_0003.mp3': 'raphiphop', 'fe_test_0060.mp3': 'rock', 'fe_test_0101.mp3': 'jazz', 'fe_test_0033.mp3': 'rock', 'fe_test_0102.mp3': 'jazz', 'fe_test_0027.mp3': 'rock', 'fe_test_0069.mp3': 'rock', 'fe_test_0071.mp3': 'raphiphop', 'fe_test_0138.mp3': 'folkcountry', 'fe_test_0063.mp3': 'folkcountry', 'fe_test_0053.mp3': 'jazz', 'fe_test_0128.mp3': 'rock'}\n"
     ]
    }
   ],
   "source": [
    "print sol\n",
    "import dill\n",
    "with open ('q1solution.data','wb') as f:\n",
    "    dill.dump(sol,f)"
   ]
  },
  {
   "cell_type": "code",
   "execution_count": null,
   "metadata": {
    "collapsed": true
   },
   "outputs": [],
   "source": [
    "print sol['f']"
   ]
  },
  {
   "cell_type": "code",
   "execution_count": 115,
   "metadata": {
    "collapsed": false
   },
   "outputs": [
    {
     "name": "stdout",
     "output_type": "stream",
     "text": [
      "{'fe_test_0041.mp3': 'rock', 'fe_test_0023.mp3': 'rock', 'fe_test_0079.mp3': 'rock', 'fe_test_0144.mp3': 'rock', 'fe_test_0133.mp3': 'rock', 'fe_test_0019.mp3': 'rock', 'fe_test_0052.mp3': 'rock', 'fe_test_0059.mp3': 'rock', 'fe_test_0017.mp3': 'rock', 'fe_test_0103.mp3': 'rock', 'fe_test_0111.mp3': 'rock', 'fe_test_0024.mp3': 'rock', 'fe_test_0012.mp3': 'rock', 'fe_test_0075.mp3': 'rock', 'fe_test_0115.mp3': 'rock', 'fe_test_0062.mp3': 'rock', 'fe_test_0137.mp3': 'rock', 'fe_test_0055.mp3': 'rock', 'fe_test_0093.mp3': 'rock', 'fe_test_0049.mp3': 'rock', 'fe_test_0016.mp3': 'rock', 'fe_test_0026.mp3': 'rock', 'fe_test_0002.mp3': 'rock', 'fe_test_0065.mp3': 'rock', 'fe_test_0129.mp3': 'rock', 'fe_test_0045.mp3': 'rock', 'fe_test_0057.mp3': 'rock', 'fe_test_0127.mp3': 'rock', 'fe_test_0015.mp3': 'rock', 'fe_test_0124.mp3': 'rock', 'fe_test_0114.mp3': 'rock', 'fe_test_0145.mp3': 'rock', 'fe_test_0120.mp3': 'rock', 'fe_test_0089.mp3': 'rock', 'fe_test_0108.mp3': 'rock', 'fe_test_0142.mp3': 'rock', 'fe_test_0047.mp3': 'rock', 'fe_test_0048.mp3': 'rock', 'fe_test_0009.mp3': 'rock', 'fe_test_0116.mp3': 'rock', 'fe_test_0077.mp3': 'rock', 'fe_test_0001.mp3': 'rock', 'fe_test_0073.mp3': 'rock', 'fe_test_0040.mp3': 'rock', 'fe_test_0058.mp3': 'rock', 'fe_test_0109.mp3': 'rock', 'fe_test_0125.mp3': 'rock', 'fe_test_0084.mp3': 'rock', 'fe_test_0032.mp3': 'rock', 'fe_test_0078.mp3': 'rock', 'fe_test_0036.mp3': 'rock', 'fe_test_0135.mp3': 'rock', 'fe_test_0018.mp3': 'rock', 'fe_test_0056.mp3': 'rock', 'fe_test_0098.mp3': 'rock', 'fe_test_0139.mp3': 'rock', 'fe_test_0083.mp3': 'rock', 'fe_test_0087.mp3': 'rock', 'fe_test_0064.mp3': 'rock', 'fe_test_0074.mp3': 'rock', 'fe_test_0143.mp3': 'rock', 'fe_test_0022.mp3': 'rock', 'fe_test_0021.mp3': 'rock', 'fe_test_0037.mp3': 'rock', 'fe_test_0104.mp3': 'rock', 'fe_test_0025.mp3': 'rock', 'fe_test_0134.mp3': 'rock', 'fe_test_0140.mp3': 'rock', 'fe_test_0131.mp3': 'rock', 'fe_test_0007.mp3': 'rock', 'fe_test_0130.mp3': 'rock', 'fe_test_0043.mp3': 'rock', 'fe_test_0092.mp3': 'rock', 'fe_test_0082.mp3': 'rock', 'fe_test_0100.mp3': 'rock', 'fe_test_0035.mp3': 'rock', 'fe_test_0086.mp3': 'rock', 'fe_test_0118.mp3': 'rock', 'fe_test_0067.mp3': 'rock', 'fe_test_0076.mp3': 'rock', 'fe_test_0107.mp3': 'rock', 'fe_test_0095.mp3': 'rock', 'fe_test_0096.mp3': 'rock', 'fe_test_0091.mp3': 'rock', 'fe_test_0112.mp3': 'rock', 'fe_test_0020.mp3': 'rock', 'fe_test_0014.mp3': 'rock', 'fe_test_0068.mp3': 'rock', 'fe_test_0117.mp3': 'rock', 'fe_test_0039.mp3': 'rock', 'fe_test_0010.mp3': 'rock', 'fe_test_0141.mp3': 'rock', 'fe_test_0044.mp3': 'rock', 'fe_test_0072.mp3': 'rock', 'fe_test_0050.mp3': 'rock', 'fe_test_0099.mp3': 'rock', 'fe_test_0097.mp3': 'rock', 'fe_test_0090.mp3': 'rock', 'fe_test_0113.mp3': 'rock', 'fe_test_0105.mp3': 'rock', 'fe_test_0088.mp3': 'rock', 'fe_test_0029.mp3': 'rock', 'fe_test_0006.mp3': 'rock', 'fe_test_0008.mp3': 'rock', 'fe_test_0110.mp3': 'rock', 'fe_test_0081.mp3': 'rock', 'fe_test_0011.mp3': 'rock', 'fe_test_0122.mp3': 'rock', 'fe_test_0066.mp3': 'rock', 'fe_test_0005.mp3': 'rock', 'fe_test_0061.mp3': 'rock', 'fe_test_0051.mp3': 'rock', 'fe_test_0042.mp3': 'rock', 'fe_test_0126.mp3': 'rock', 'fe_test_0013.mp3': 'rock', 'fe_test_0132.mp3': 'rock', 'fe_test_0119.mp3': 'rock', 'fe_test_0136.mp3': 'rock', 'fe_test_0094.mp3': 'rock', 'fe_test_0031.mp3': 'rock', 'fe_test_0106.mp3': 'rock', 'fe_test_0121.mp3': 'rock', 'fe_test_0034.mp3': 'rock', 'fe_test_0004.mp3': 'rock', 'fe_test_0070.mp3': 'rock', 'fe_test_0046.mp3': 'rock', 'fe_test_0054.mp3': 'rock', 'fe_test_0080.mp3': 'rock', 'fe_test_0030.mp3': 'rock', 'fe_test_0123.mp3': 'rock', 'fe_test_0085.mp3': 'rock', 'fe_test_0028.mp3': 'rock', 'fe_test_0038.mp3': 'rock', 'fe_test_0003.mp3': 'rock', 'fe_test_0060.mp3': 'rock', 'fe_test_0101.mp3': 'rock', 'fe_test_0033.mp3': 'rock', 'fe_test_0102.mp3': 'rock', 'fe_test_0027.mp3': 'rock', 'fe_test_0069.mp3': 'rock', 'fe_test_0071.mp3': 'rock', 'fe_test_0138.mp3': 'rock', 'fe_test_0063.mp3': 'rock', 'fe_test_0053.mp3': 'rock', 'fe_test_0128.mp3': 'rock'}\n"
     ]
    }
   ],
   "source": [
    "print sol2"
   ]
  },
  {
   "cell_type": "code",
   "execution_count": 51,
   "metadata": {
    "collapsed": false
   },
   "outputs": [],
   "source": [
    "zerocross = list()\n",
    "for i in xrange(len(raw_amp)-winsize+1):    \n",
    "    zerocross.append(audioop.cross(raw_amp[i:i+winsize],2))"
   ]
  },
  {
   "cell_type": "code",
   "execution_count": 52,
   "metadata": {
    "collapsed": false
   },
   "outputs": [
    {
     "name": "stdout",
     "output_type": "stream",
     "text": [
      "882631\n",
      "1058.51421036\n"
     ]
    }
   ],
   "source": [
    "#print len(zerocross)\n",
    "#print np.asarray(zerocross).mean()"
   ]
  },
  {
   "cell_type": "code",
   "execution_count": 53,
   "metadata": {
    "collapsed": false
   },
   "outputs": [],
   "source": [
    "#print raw_amp[:1000]"
   ]
  },
  {
   "cell_type": "code",
   "execution_count": 195,
   "metadata": {
    "collapsed": true
   },
   "outputs": [],
   "source": [
    "a={'fe_test_0041.mp3': 'folkcountry', 'fe_test_0023.mp3': 'rock', 'fe_test_0079.mp3': 'raphiphop', 'fe_test_0144.mp3': 'raphiphop', 'fe_test_0133.mp3': 'raphiphop', 'fe_test_0019.mp3': 'jazz', 'fe_test_0052.mp3': 'jazz', 'fe_test_0059.mp3': 'raphiphop', 'fe_test_0017.mp3': 'raphiphop', 'fe_test_0103.mp3': 'rock', 'fe_test_0111.mp3': 'folkcountry', 'fe_test_0024.mp3': 'folkcountry', 'fe_test_0012.mp3': 'folkcountry', 'fe_test_0075.mp3': 'rock', 'fe_test_0115.mp3': 'jazz', 'fe_test_0062.mp3': 'folkcountry', 'fe_test_0137.mp3': 'jazz', 'fe_test_0055.mp3': 'folkcountry', 'fe_test_0093.mp3': 'jazz', 'fe_test_0049.mp3': 'jazz', 'fe_test_0016.mp3': 'rock', 'fe_test_0026.mp3': 'rock', 'fe_test_0002.mp3': 'rock', 'fe_test_0065.mp3': 'raphiphop', 'fe_test_0129.mp3': 'jazz', 'fe_test_0045.mp3': 'jazz', 'fe_test_0057.mp3': 'rock', 'fe_test_0127.mp3': 'raphiphop', 'fe_test_0015.mp3': 'rock', 'fe_test_0124.mp3': 'raphiphop', 'fe_test_0114.mp3': 'rock', 'fe_test_0145.mp3': 'raphiphop', 'fe_test_0120.mp3': 'raphiphop', 'fe_test_0089.mp3': 'raphiphop', 'fe_test_0108.mp3': 'rock', 'fe_test_0142.mp3': 'jazz', 'fe_test_0047.mp3': 'jazz', 'fe_test_0048.mp3': 'folkcountry', 'fe_test_0009.mp3': 'rock', 'fe_test_0116.mp3': 'rock', 'fe_test_0077.mp3': 'jazz', 'fe_test_0001.mp3': 'jazz', 'fe_test_0073.mp3': 'raphiphop', 'fe_test_0040.mp3': 'rock', 'fe_test_0058.mp3': 'raphiphop', 'fe_test_0109.mp3': 'jazz', 'fe_test_0125.mp3': 'rock', 'fe_test_0084.mp3': 'rock', 'fe_test_0032.mp3': 'folkcountry', 'fe_test_0078.mp3': 'rock', 'fe_test_0036.mp3': 'rock', 'fe_test_0135.mp3': 'folkcountry', 'fe_test_0018.mp3': 'raphiphop', 'fe_test_0056.mp3': 'jazz', 'fe_test_0098.mp3': 'rock', 'fe_test_0139.mp3': 'folkcountry', 'fe_test_0083.mp3': 'raphiphop', 'fe_test_0087.mp3': 'rock', 'fe_test_0064.mp3': 'raphiphop', 'fe_test_0074.mp3': 'rock', 'fe_test_0143.mp3': 'jazz', 'fe_test_0022.mp3': 'jazz', 'fe_test_0021.mp3': 'jazz', 'fe_test_0037.mp3': 'rock', 'fe_test_0104.mp3': 'jazz', 'fe_test_0025.mp3': 'folkcountry', 'fe_test_0134.mp3': 'jazz', 'fe_test_0140.mp3': 'rock', 'fe_test_0131.mp3': 'jazz', 'fe_test_0007.mp3': 'rock', 'fe_test_0130.mp3': 'jazz', 'fe_test_0043.mp3': 'raphiphop', 'fe_test_0092.mp3': 'jazz', 'fe_test_0082.mp3': 'rock', 'fe_test_0100.mp3': 'jazz', 'fe_test_0035.mp3': 'rock', 'fe_test_0086.mp3': 'rock', 'fe_test_0118.mp3': 'folkcountry', 'fe_test_0067.mp3': 'jazz', 'fe_test_0076.mp3': 'folkcountry', 'fe_test_0107.mp3': 'jazz', 'fe_test_0095.mp3': 'rock', 'fe_test_0096.mp3': 'rock', 'fe_test_0091.mp3': 'raphiphop', 'fe_test_0112.mp3': 'rock', 'fe_test_0020.mp3': 'rock', 'fe_test_0014.mp3': 'rock', 'fe_test_0068.mp3': 'rock', 'fe_test_0117.mp3': 'jazz', 'fe_test_0039.mp3': 'raphiphop', 'fe_test_0010.mp3': 'raphiphop', 'fe_test_0141.mp3': 'raphiphop', 'fe_test_0044.mp3': 'jazz', 'fe_test_0072.mp3': 'rock', 'fe_test_0050.mp3': 'jazz', 'fe_test_0099.mp3': 'jazz', 'fe_test_0097.mp3': 'jazz', 'fe_test_0090.mp3': 'rock', 'fe_test_0113.mp3': 'rock', 'fe_test_0105.mp3': 'jazz', 'fe_test_0088.mp3': 'rock', 'fe_test_0029.mp3': 'folkcountry', 'fe_test_0006.mp3': 'rock', 'fe_test_0008.mp3': 'rock', 'fe_test_0110.mp3': 'rock', 'fe_test_0081.mp3': 'jazz', 'fe_test_0011.mp3': 'jazz', 'fe_test_0122.mp3': 'rock', 'fe_test_0066.mp3': 'rock', 'fe_test_0005.mp3': 'rock', 'fe_test_0061.mp3': 'raphiphop', 'fe_test_0051.mp3': 'jazz', 'fe_test_0042.mp3': 'rock', 'fe_test_0126.mp3': 'jazz', 'fe_test_0013.mp3': 'rock', 'fe_test_0132.mp3': 'rock', 'fe_test_0119.mp3': 'rock', 'fe_test_0136.mp3': 'rock', 'fe_test_0094.mp3': 'rock', 'fe_test_0031.mp3': 'rock', 'fe_test_0106.mp3': 'rock', 'fe_test_0121.mp3': 'electronic', 'fe_test_0034.mp3': 'jazz', 'fe_test_0004.mp3': 'rock', 'fe_test_0070.mp3': 'jazz', 'fe_test_0046.mp3': 'folkcountry', 'fe_test_0054.mp3': 'folkcountry', 'fe_test_0080.mp3': 'jazz', 'fe_test_0030.mp3': 'rock', 'fe_test_0123.mp3': 'rock', 'fe_test_0085.mp3': 'raphiphop', 'fe_test_0028.mp3': 'raphiphop', 'fe_test_0038.mp3': 'folkcountry', 'fe_test_0003.mp3': 'raphiphop', 'fe_test_0060.mp3': 'rock', 'fe_test_0101.mp3': 'jazz', 'fe_test_0033.mp3': 'rock', 'fe_test_0102.mp3': 'folkcountry', 'fe_test_0027.mp3': 'rock', 'fe_test_0069.mp3': 'jazz', 'fe_test_0071.mp3': 'raphiphop', 'fe_test_0138.mp3': 'folkcountry', 'fe_test_0063.mp3': 'folkcountry', 'fe_test_0053.mp3': 'jazz', 'fe_test_0128.mp3': 'rock'}\n"
   ]
  },
  {
   "cell_type": "code",
   "execution_count": 196,
   "metadata": {
    "collapsed": false
   },
   "outputs": [
    {
     "name": "stdout",
     "output_type": "stream",
     "text": [
      "<type 'dict'>\n"
     ]
    }
   ],
   "source": [
    "print type(a)"
   ]
  },
  {
   "cell_type": "code",
   "execution_count": null,
   "metadata": {
    "collapsed": true
   },
   "outputs": [],
   "source": []
  }
 ],
 "metadata": {
  "kernelspec": {
   "display_name": "Python 2",
   "language": "python",
   "name": "python2"
  },
  "language_info": {
   "codemirror_mode": {
    "name": "ipython",
    "version": 2
   },
   "file_extension": ".py",
   "mimetype": "text/x-python",
   "name": "python",
   "nbconvert_exporter": "python",
   "pygments_lexer": "ipython2",
   "version": "2.7.11"
  }
 },
 "nbformat": 4,
 "nbformat_minor": 0
}
